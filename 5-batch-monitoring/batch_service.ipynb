{
 "cells": [
  {
   "cell_type": "code",
   "execution_count": 1,
   "metadata": {},
   "outputs": [],
   "source": [
    "import os\n",
    "import pandas as pd\n",
    "import boto3\n",
    "\n",
    "import mlflow\n",
    "from mlflow.tracking import MlflowClient\n",
    "\n",
    "from datetime import datetime\n",
    "from dateutil.relativedelta import relativedelta\n",
    "\n",
    "PUBLIC_SERVER_IP = os.getenv(\"PUBLIC_SERVER_IP\", \"51.250.28.168\")\n",
    "BUCKET = 'kkr-mlops-zoomcamp'\n",
    "\n",
    "\n",
    "def read_file(key, bucket=BUCKET):\n",
    "\n",
    "    session = boto3.session.Session()\n",
    "    s3 = session.client(\n",
    "        service_name='s3',\n",
    "        endpoint_url='https://storage.yandexcloud.net',\n",
    "        region_name='ru-central1',\n",
    "        # aws_access_key_id = \"id\",\n",
    "        # aws_secret_access_key = \"key\")\n",
    "    )\n",
    "    obj = s3.get_object(Bucket=bucket, Key=key)\n",
    "\n",
    "    data = pd.read_csv(obj['Body'], sep=\",\", na_values='NaN')\n",
    "\n",
    "    return data\n",
    "\n",
    "\n",
    "def load_data(current_date = \"2015-6-17\", periods = 1):\n",
    "    \n",
    "    dt_current = datetime.strptime(current_date, \"%Y-%m-%d\")\n",
    "    \n",
    "    if periods == 1:\n",
    "        date_file = dt_current + relativedelta(months = - 1)\n",
    "        print(f\"Getting TEST data for {date_file.year}-{date_file.month} period\")\n",
    "        test_data = read_file(key = f\"datasets/car-prices-{date_file.year}-{date_file.month}.csv\")\n",
    "\n",
    "        return test_data\n",
    "\n",
    "    else:\n",
    "        train_data = pd.DataFrame()\n",
    "        for i in range(periods+1, 1, -1):\n",
    "            date_file = dt_current + relativedelta(months = - i)\n",
    "            try:\n",
    "                data = read_file(key = f\"datasets/car-prices-{date_file.year}-{date_file.month}.csv\")\n",
    "                print(f\"Getting TRAIN data for {date_file.year}-{date_file.month} period\")\n",
    "            except:\n",
    "                print(f\"Cannot find file car-prices-{date_file.year}-{date_file.month}.csv\",\n",
    "                    \"using blank\")\n",
    "                data = None\n",
    "                \n",
    "            train_data = pd.concat([train_data, data])\n",
    "        \n",
    "        return train_data\n",
    "\n",
    "\n",
    "def na_filter(data):\n",
    "    work_data = data.copy()\n",
    "    non_type = work_data[data['make'].isna() | data['model'].isna() | data['trim'].isna()].index\n",
    "    work_data.drop(non_type, axis=0, inplace=True)\n",
    "\n",
    "    y = work_data.pop('sellingprice')\n",
    "\n",
    "    return work_data, y\n",
    "\n",
    "\n",
    "def load_model():\n",
    "        MLFLOW_TRACKING_URI = f\"http://{PUBLIC_SERVER_IP}:5001\"\n",
    "        model_name = \"Auction-car-prices-prediction\"\n",
    "\n",
    "        print(f\"... Connecting to MLFlow Server on {MLFLOW_TRACKING_URI} ...\")\n",
    "        mlflow.set_tracking_uri(MLFLOW_TRACKING_URI)\n",
    "\n",
    "        if PUBLIC_SERVER_IP:\n",
    "            \n",
    "            model_uri = f\"models:/{model_name}/production\"\n",
    "\n",
    "            print(\"... Loading prediction model from production stage ...\")\n",
    "\n",
    "            model = mlflow.pyfunc.load_model(model_uri=model_uri)\n",
    "\n",
    "            versions = mlflow.MlflowClient(MLFLOW_TRACKING_URI).get_latest_versions(\n",
    "                    name =  model_name,\n",
    "                    stages = [\"Production\"]\n",
    "                )\n",
    "            \n",
    "            version = versions[0].version\n",
    "            run_id = versions[0].run_id\n",
    "            print(f\"Version: {version} Run_id: {run_id}\")\n",
    "\n",
    "        else:\n",
    "            pass\n",
    "                \n",
    "        return model\n",
    "\n",
    "\n",
    "def prediction(record):\n",
    "    model = load_model()\n",
    "\n",
    "    record_df = pd.DataFrame([record])\n",
    "    price_prediction = model.predict(record_df)\n",
    "\n",
    "    return float(price_prediction[0])"
   ]
  },
  {
   "cell_type": "code",
   "execution_count": 7,
   "metadata": {},
   "outputs": [
    {
     "name": "stdout",
     "output_type": "stream",
     "text": [
      "Getting TEST data for 2015-5 period\n",
      "... Connecting to MLFlow Server on http://51.250.28.168:5001 ...\n",
      "... Loading prediction model from production stage ...\n",
      "Version: 2 Run_id: c73be71def6c47879820e7ba20810f5f\n"
     ]
    },
    {
     "data": {
      "text/plain": [
       "mlflow.pyfunc.loaded_model:\n",
       "  artifact_path: full-pipeline\n",
       "  flavor: mlflow.sklearn\n",
       "  run_id: c73be71def6c47879820e7ba20810f5f"
      ]
     },
     "execution_count": 7,
     "metadata": {},
     "output_type": "execute_result"
    }
   ],
   "source": [
    "data = load_data()\n",
    "model = load_model()\n",
    "model"
   ]
  },
  {
   "cell_type": "code",
   "execution_count": 8,
   "metadata": {},
   "outputs": [
    {
     "data": {
      "text/plain": [
       "array([18299.725, 36472.844, 19731.498, ..., 29634.53 ,  8339.583,\n",
       "       28527.91 ], dtype=float32)"
      ]
     },
     "execution_count": 8,
     "metadata": {},
     "output_type": "execute_result"
    }
   ],
   "source": [
    "model.predict(data)"
   ]
  }
 ],
 "metadata": {
  "kernelspec": {
   "display_name": "Python 3.9.12 ('mlops-project-monitoring')",
   "language": "python",
   "name": "python3"
  },
  "language_info": {
   "codemirror_mode": {
    "name": "ipython",
    "version": 3
   },
   "file_extension": ".py",
   "mimetype": "text/x-python",
   "name": "python",
   "nbconvert_exporter": "python",
   "pygments_lexer": "ipython3",
   "version": "3.9.13"
  },
  "orig_nbformat": 4,
  "vscode": {
   "interpreter": {
    "hash": "273db27f1a8bad680e5d21b96392c12b68fb1930e920d85d7613e044aed1c985"
   }
  }
 },
 "nbformat": 4,
 "nbformat_minor": 2
}
