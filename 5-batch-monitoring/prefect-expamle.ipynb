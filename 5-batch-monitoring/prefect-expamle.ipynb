{
 "cells": [
  {
   "cell_type": "code",
   "execution_count": 3,
   "metadata": {},
   "outputs": [
    {
     "name": "stdout",
     "output_type": "stream",
     "text": [
      "... Connecting to MLFlow Server on http://51.250.28.168:5001 ...\n",
      "... Loading prediction model from production stage ...\n",
      "Version: 2 Run_id: c73be71def6c47879820e7ba20810f5f\n",
      "Getting TEST data for 2015-5 period\n"
     ]
    }
   ],
   "source": [
    "import json\n",
    "import os\n",
    "from pdb import Pdb\n",
    "import pickle\n",
    "import pandas as pd\n",
    "\n",
    "import batch_service\n",
    "\n",
    "from prefect import flow, task\n",
    "from pymongo import MongoClient\n",
    "import pyarrow.parquet as pq\n",
    "\n",
    "from evidently import ColumnMapping\n",
    "\n",
    "from evidently.dashboard import Dashboard\n",
    "from evidently.dashboard.tabs import DataDriftTab,RegressionPerformanceTab\n",
    "\n",
    "from evidently.model_profile import Profile\n",
    "from evidently.model_profile.sections import DataDriftProfileSection, RegressionPerformanceProfileSection\n",
    "\n",
    "\n",
    "# @task\n",
    "# def upload_target(filename):\n",
    "#     client = MongoClient(\"mongodb://localhost:27018/\")\n",
    "#     collection = client.get_database(\"prediction_service\").get_collection(\"data\")\n",
    "#     with open(filename) as f_target:\n",
    "#         for line in f_target.readlines():\n",
    "#             row = line.split(\",\")\n",
    "#             # print({\"id\": row[0]}, {\"$set\": {\"target\": float(row[1])}})\n",
    "#             collection.update_one({\"id\": row[0]}, {\"$set\": {\"target\": float(row[1]), \"prediction\": float(row[2])}})\n",
    "#     client.close()\n",
    "\n",
    "\n",
    "# @task\n",
    "def load_reference_data(current_date):\n",
    "\n",
    "    model = batch_service.load_model()\n",
    "   \n",
    "    reference_data, target = batch_service.na_filter(batch_service.load_data(current_date))\n",
    "   \n",
    "    reference_data['prediction'] = model.predict(reference_data)\n",
    "    reference_data['target'] = target.values\n",
    "    \n",
    "    return reference_data\n",
    "\n",
    "\n",
    "# @task\n",
    "def fetch_data(filename):\n",
    "    # client = MongoClient(\"mongodb://localhost:27018/\")\n",
    "    # data = client.get_database(\"prediction_service\").get_collection(\"data-tst\").find()\n",
    "    # df = pd.DataFrame(list(data))\n",
    "\n",
    "    data = pd.read_csv(filename, sep = \",\", header = None )\n",
    "    data.columns = ['id', 'target', 'prediction']\n",
    "    return data\n",
    "\n",
    "\n",
    "# @task\n",
    "def run_evidently(ref_data, data):\n",
    "    # ref_data.drop('ehail_fee', axis=1, inplace=True)\n",
    "    # data.drop('ehail_fee', axis=1, inplace=True)  # drop empty column (until Evidently will work with it properly)\n",
    "    profile = Profile(sections=[DataDriftProfileSection(), RegressionPerformanceProfileSection()])\n",
    "    mapping = ColumnMapping(\n",
    "            prediction=\"prediction\",\n",
    "            numerical_features=[], #['condition', 'odometer', 'mmr'],\n",
    "            categorical_features=[], #['year', 'make', 'model', 'trim', 'body', 'transmission', 'color', 'interior'],\n",
    "            datetime_features=['saledate']\n",
    "        )\n",
    "    profile.calculate(ref_data, data, mapping)\n",
    "\n",
    "    dashboard = Dashboard(tabs=[DataDriftTab(), RegressionPerformanceTab(verbose_level=0)])\n",
    "    dashboard.calculate(ref_data, data, mapping)\n",
    "    return json.loads(profile.json()), dashboard\n",
    "\n",
    "\n",
    "# @task\n",
    "def save_report(result):\n",
    "    client = MongoClient(\"mongodb://localhost:27018/\")\n",
    "    client.get_database(\"prediction_service\").get_collection(\"report\").insert_one(result[0])\n",
    "\n",
    "\n",
    "# @task\n",
    "def save_html_report(result):\n",
    "    result[1].save(\"evidently_report_example.html\")\n",
    "\n",
    "\n",
    "# @flow\n",
    "def batch_analyze(current_date='2015-6-17', target_file = '../target.csv'):\n",
    "    # upload_target(\"../target.csv\")\n",
    "    ref_data = load_reference_data(current_date)\n",
    "    data = fetch_data(target_file)\n",
    "\n",
    "    ref_data.fillna(-1,inplace=True)\n",
    "    data.fillna(-1,inplace=True)\n",
    "\n",
    "    report = run_evidently(ref_data, data)\n",
    "    \n",
    "    save_report(report)\n",
    "    save_html_report(report)\n",
    "    \n",
    "    return report\n",
    "\n",
    "report = batch_analyze()[0]"
   ]
  },
  {
   "cell_type": "code",
   "execution_count": 4,
   "metadata": {},
   "outputs": [
    {
     "name": "stdout",
     "output_type": "stream",
     "text": [
      "Drift detected on the prediction:  True\n"
     ]
    }
   ],
   "source": [
    "client = MongoClient(\"mongodb://localhost:27018/\")\n",
    "report = list(client.get_database(\"prediction_service\").get_collection(\"report\").find())[0]\n",
    "\n",
    "print(\"Drift detected on the prediction: \", report['data_drift']['data']['metrics']['prediction']['drift_detected'])"
   ]
  },
  {
   "cell_type": "code",
   "execution_count": 6,
   "metadata": {},
   "outputs": [
    {
     "name": "stdout",
     "output_type": "stream",
     "text": [
      "Drift detected on the target:  True\n"
     ]
    }
   ],
   "source": [
    "print(\"Drift detected on the target: \", report['data_drift']['data']['metrics']['target']['drift_detected'])"
   ]
  }
 ],
 "metadata": {
  "kernelspec": {
   "display_name": "Python 3.9.12 ('mlops-project-monitoring')",
   "language": "python",
   "name": "python3"
  },
  "language_info": {
   "codemirror_mode": {
    "name": "ipython",
    "version": 3
   },
   "file_extension": ".py",
   "mimetype": "text/x-python",
   "name": "python",
   "nbconvert_exporter": "python",
   "pygments_lexer": "ipython3",
   "version": "3.9.13"
  },
  "orig_nbformat": 4,
  "vscode": {
   "interpreter": {
    "hash": "273db27f1a8bad680e5d21b96392c12b68fb1930e920d85d7613e044aed1c985"
   }
  }
 },
 "nbformat": 4,
 "nbformat_minor": 2
}
