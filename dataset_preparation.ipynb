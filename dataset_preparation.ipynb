{
 "cells": [
  {
   "cell_type": "code",
   "execution_count": 10,
   "metadata": {},
   "outputs": [
    {
     "name": "stderr",
     "output_type": "stream",
     "text": [
      "/tmp/ipykernel_1908/2279844411.py:4: FutureWarning: The error_bad_lines argument has been deprecated and will be removed in a future version. Use on_bad_lines in the future.\n",
      "\n",
      "\n",
      "  data = pd.read_csv('car_prices.csv',\n",
      "b'Skipping line 408163: expected 16 fields, saw 17\\nSkipping line 417837: expected 16 fields, saw 17\\nSkipping line 421291: expected 16 fields, saw 17\\nSkipping line 424163: expected 16 fields, saw 17\\n'\n",
      "b'Skipping line 427042: expected 16 fields, saw 17\\nSkipping line 427045: expected 16 fields, saw 17\\nSkipping line 434426: expected 16 fields, saw 17\\nSkipping line 444503: expected 16 fields, saw 17\\nSkipping line 453796: expected 16 fields, saw 17\\n'\n",
      "b'Skipping line 461599: expected 16 fields, saw 17\\nSkipping line 461614: expected 16 fields, saw 17\\n'\n",
      "b'Skipping line 492486: expected 16 fields, saw 17\\nSkipping line 497010: expected 16 fields, saw 17\\nSkipping line 497013: expected 16 fields, saw 17\\nSkipping line 499085: expected 16 fields, saw 17\\nSkipping line 501457: expected 16 fields, saw 17\\nSkipping line 505301: expected 16 fields, saw 17\\nSkipping line 505308: expected 16 fields, saw 17\\nSkipping line 520463: expected 16 fields, saw 17\\n'\n",
      "b'Skipping line 528998: expected 16 fields, saw 17\\nSkipping line 529011: expected 16 fields, saw 17\\nSkipping line 529015: expected 16 fields, saw 17\\nSkipping line 529624: expected 16 fields, saw 17\\nSkipping line 548786: expected 16 fields, saw 17\\nSkipping line 551224: expected 16 fields, saw 17\\nSkipping line 554712: expected 16 fields, saw 17\\n'\n"
     ]
    }
   ],
   "source": [
    "import pandas as pd\n",
    "from datetime import datetime\n",
    "\n",
    "data = pd.read_csv('car_prices.csv',\n",
    "                    sep=',',\n",
    "                    error_bad_lines=False,\n",
    "                    parse_dates=['saledate'])\n",
    "data['saledate'] = data['saledate'].apply(lambda t: datetime.strftime(t, \"%Y-%m-%d %H:%M\"))\n",
    "data['saledate'] = data['saledate'].apply(lambda t: datetime.strptime(t, \"%Y-%m-%d %H:%M\"))\n",
    "\n",
    "dataset_train = data[data['saledate'] < datetime(year=2015, month = 4, day = 1, hour = 0, minute=0)].sort_values(by='saledate')\n",
    "dataset_test = data[data['saledate'] > datetime(year=2015, month = 4, day = 1, hour = 0, minute=0)].sort_values(by='saledate')\n",
    "\n",
    "dataset_train.to_csv('car-prices-train.csv', index=False)\n",
    "dataset_test.to_csv('car-prices-test.csv', index=False)"
   ]
  },
  {
   "cell_type": "code",
   "execution_count": 9,
   "metadata": {},
   "outputs": [
    {
     "data": {
      "text/plain": [
       "Int64Index([406255, 405723, 405722, 406015, 405957, 405923, 405892, 405893,\n",
       "            405900, 405903,\n",
       "            ...\n",
       "            539262, 521811, 507168, 430361, 488865, 422711, 549532, 452466,\n",
       "            436240, 200268],\n",
       "           dtype='int64', length=155145)"
      ]
     },
     "execution_count": 9,
     "metadata": {},
     "output_type": "execute_result"
    }
   ],
   "source": [
    "dataset_test.index"
   ]
  }
 ],
 "metadata": {
  "kernelspec": {
   "display_name": "Python 3.9.12 ('base')",
   "language": "python",
   "name": "python3"
  },
  "language_info": {
   "codemirror_mode": {
    "name": "ipython",
    "version": 3
   },
   "file_extension": ".py",
   "mimetype": "text/x-python",
   "name": "python",
   "nbconvert_exporter": "python",
   "pygments_lexer": "ipython3",
   "version": "3.9.12"
  },
  "orig_nbformat": 4,
  "vscode": {
   "interpreter": {
    "hash": "3896c710eaa6118cd87eb3929cad6bf103bd6fc939f7f0fa4f0adcbb9cf36bf7"
   }
  }
 },
 "nbformat": 4,
 "nbformat_minor": 2
}
