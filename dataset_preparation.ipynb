{
 "cells": [
  {
   "cell_type": "code",
   "execution_count": 7,
   "metadata": {},
   "outputs": [
    {
     "name": "stderr",
     "output_type": "stream",
     "text": [
      "/tmp/ipykernel_3720/1554297013.py:5: FutureWarning: The error_bad_lines argument has been deprecated and will be removed in a future version. Use on_bad_lines in the future.\n",
      "\n",
      "\n",
      "  data = pd.read_csv('./dataset/car_prices.csv',\n",
      "b'Skipping line 408163: expected 16 fields, saw 17\\nSkipping line 417837: expected 16 fields, saw 17\\nSkipping line 421291: expected 16 fields, saw 17\\nSkipping line 424163: expected 16 fields, saw 17\\n'\n",
      "b'Skipping line 427042: expected 16 fields, saw 17\\nSkipping line 427045: expected 16 fields, saw 17\\nSkipping line 434426: expected 16 fields, saw 17\\nSkipping line 444503: expected 16 fields, saw 17\\nSkipping line 453796: expected 16 fields, saw 17\\n'\n",
      "b'Skipping line 461599: expected 16 fields, saw 17\\nSkipping line 461614: expected 16 fields, saw 17\\n'\n",
      "b'Skipping line 492486: expected 16 fields, saw 17\\nSkipping line 497010: expected 16 fields, saw 17\\nSkipping line 497013: expected 16 fields, saw 17\\nSkipping line 499085: expected 16 fields, saw 17\\nSkipping line 501457: expected 16 fields, saw 17\\nSkipping line 505301: expected 16 fields, saw 17\\nSkipping line 505308: expected 16 fields, saw 17\\nSkipping line 520463: expected 16 fields, saw 17\\n'\n",
      "b'Skipping line 528998: expected 16 fields, saw 17\\nSkipping line 529011: expected 16 fields, saw 17\\nSkipping line 529015: expected 16 fields, saw 17\\nSkipping line 529624: expected 16 fields, saw 17\\nSkipping line 548786: expected 16 fields, saw 17\\nSkipping line 551224: expected 16 fields, saw 17\\nSkipping line 554712: expected 16 fields, saw 17\\n'\n"
     ]
    }
   ],
   "source": [
    "import numpy as np\n",
    "import pandas as pd\n",
    "\n",
    "from datetime import datetime\n",
    "from dateutil.relativedelta import relativedelta\n",
    "\n",
    "def main():\n",
    "    data = pd.read_csv('./dataset/car_prices.csv',\n",
    "                        sep=',',\n",
    "                        error_bad_lines=False,\n",
    "                        parse_dates=['saledate'])\n",
    "    data['saledate'] = data['saledate'].apply(lambda t: datetime.strftime(t, \"%Y-%m-%d %H:%M\"))\n",
    "    data['saledate'] = data['saledate'].apply(lambda t: datetime.strptime(t, \"%Y-%m-%d %H:%M\"))\n",
    "\n",
    "    period = datetime(year=2014, month=12, day=1).date()\n",
    "    td_max = data.saledate.max().date()\n",
    "\n",
    "    while period <= td_max:\n",
    "        mask = (data['saledate'] < np.datetime64(period  + relativedelta(months=1))) \\\n",
    "                &(data['saledate'] >= np.datetime64(period))\n",
    "        \n",
    "        filename = f\"car-prices-{period.year}-{period.month}\"\n",
    "        print(filename,\n",
    "            period + relativedelta(months=1),\n",
    "            np.sum(mask))\n",
    "        data[mask].to_csv(f\"./dataset/{filename}.csv\", sep=\",\", index=False)\n",
    "        period = period + relativedelta(months=1)\n",
    "\n",
    "if __name__==\"__main__\":\n",
    "    main()"
   ]
  },
  {
   "cell_type": "code",
   "execution_count": 10,
   "metadata": {},
   "outputs": [
    {
     "name": "stdout",
     "output_type": "stream",
     "text": [
      "car-prices-2014-12 2015-01-01 53520\n",
      "car-prices-2015-1 2015-02-01 140609\n",
      "car-prices-2015-2 2015-03-01 163053\n",
      "car-prices-2015-3 2015-04-01 46277\n",
      "car-prices-2015-4 2015-05-01 1450\n",
      "car-prices-2015-5 2015-06-01 52451\n",
      "car-prices-2015-6 2015-07-01 99944\n",
      "car-prices-2015-7 2015-08-01 1300\n"
     ]
    }
   ],
   "source": []
  }
 ],
 "metadata": {
  "kernelspec": {
   "display_name": "Python 3.9.12 ('base')",
   "language": "python",
   "name": "python3"
  },
  "language_info": {
   "codemirror_mode": {
    "name": "ipython",
    "version": 3
   },
   "file_extension": ".py",
   "mimetype": "text/x-python",
   "name": "python",
   "nbconvert_exporter": "python",
   "pygments_lexer": "ipython3",
   "version": "3.9.12"
  },
  "orig_nbformat": 4,
  "vscode": {
   "interpreter": {
    "hash": "3896c710eaa6118cd87eb3929cad6bf103bd6fc939f7f0fa4f0adcbb9cf36bf7"
   }
  }
 },
 "nbformat": 4,
 "nbformat_minor": 2
}
