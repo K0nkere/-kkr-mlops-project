{
 "cells": [
  {
   "cell_type": "code",
   "execution_count": 63,
   "metadata": {},
   "outputs": [],
   "source": [
    "import json\n",
    "import pandas as pd\n",
    "\n",
    "import mlflow\n",
    "from flask import Flask, request, jsonify\n",
    "\n",
    "MLFLOW_TRACKING_URI = 'sqlite:///../mlops-project.db'\n",
    "# mlflow.set_tracking_uri(\"http://127.0.0.1:5000/\")\n",
    "mlflow.set_tracking_uri(MLFLOW_TRACKING_URI)\n",
    "\n",
    "model_name = \"Auction-car-prices-prediction\"\n",
    "model_uri = f\"models:/{model_name}/production\"\n",
    "\n",
    "model = mlflow.pyfunc.load_model(model_uri=model_uri)\n",
    "\n",
    "def prediction(record):\n",
    "    record_df = pd.DataFrame([record])\n",
    "    price_prediction = model.predict(record_df)\n",
    "\n",
    "    return price_prediction[0]\n",
    "\n",
    "\n",
    "app = Flask(\"Car-price-prediction\")\n",
    "\n",
    "@app.route('/prediction', methods = ['POST'])\n",
    "def prediction_endpoint():\n",
    "    \n",
    "    record = request.get_json()\n",
    "    print(\"\\nEstimating of the car with following characteristics\\n\", json.dumps(record, indent=4))\n",
    "    \n",
    "    price_prediction = prediction(record)\n",
    "    result = {\n",
    "        \"price\": price_prediction\n",
    "    }\n",
    "\n",
    "    return jsonify(result)\n",
    "\n",
    "if __name__ == \"__main__\":\n",
    "    app.run(debug=True, host='0.0.0.0', port=9696)"
   ]
  }
 ],
 "metadata": {
  "kernelspec": {
   "display_name": "Python 3.9.12 ('3-deployment-RWNgInli')",
   "language": "python",
   "name": "python3"
  },
  "language_info": {
   "codemirror_mode": {
    "name": "ipython",
    "version": 3
   },
   "file_extension": ".py",
   "mimetype": "text/x-python",
   "name": "python",
   "nbconvert_exporter": "python",
   "pygments_lexer": "ipython3",
   "version": "3.9.12"
  },
  "orig_nbformat": 4,
  "vscode": {
   "interpreter": {
    "hash": "d19a650e175d9269bee6f710f192a6a2d2a4581a54d829e3b53f510a1b9a14df"
   }
  }
 },
 "nbformat": 4,
 "nbformat_minor": 2
}
