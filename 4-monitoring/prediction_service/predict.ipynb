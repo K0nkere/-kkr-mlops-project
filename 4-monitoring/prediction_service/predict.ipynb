{
 "cells": [
  {
   "cell_type": "code",
   "execution_count": 2,
   "metadata": {},
   "outputs": [
    {
     "name": "stdout",
     "output_type": "stream",
     "text": [
      "... Connecting to MLFlow Server on 51.250.101.205 ...\n",
      "... Loading prediction model from production stage ...\n"
     ]
    },
    {
     "name": "stderr",
     "output_type": "stream",
     "text": [
      "\u001b[33m * Tip: There are .env or .flaskenv files present. Do \"pip install python-dotenv\" to use them.\u001b[0m\n"
     ]
    },
    {
     "name": "stdout",
     "output_type": "stream",
     "text": [
      "... Ready to requests ...\n",
      " * Serving Flask app 'Car-price-prediction-service' (lazy loading)\n",
      " * Environment: production\n",
      "\u001b[31m   WARNING: This is a development server. Do not use it in a production deployment.\u001b[0m\n",
      "\u001b[2m   Use a production WSGI server instead.\u001b[0m\n",
      " * Debug mode: on\n"
     ]
    },
    {
     "name": "stderr",
     "output_type": "stream",
     "text": [
      " * Running on all addresses.\n",
      "   WARNING: This is a development server. Do not use it in a production deployment.\n",
      " * Running on http://10.129.0.20:9696/ (Press CTRL+C to quit)\n",
      " * Restarting with stat\n",
      "/homw/winx/.conda/envs/mlops-project-monitoring/lib/python3.9/site-packages/traitlets/traitlets.py:2202: FutureWarning: Supporting extra quotes around strings is deprecated in traitlets 5.0. You can use 'hmac-sha256' instead of '\"hmac-sha256\"' if you require traitlets >=5.\n",
      "  warn(\n",
      "/homw/winx/.conda/envs/mlops-project-monitoring/lib/python3.9/site-packages/traitlets/traitlets.py:2157: FutureWarning: Supporting extra quotes around Bytes is deprecated in traitlets 5.0. Use 'fc017bc5-f5a8-4f3c-a4cd-046a69fd36eb' instead of 'b\"fc017bc5-f5a8-4f3c-a4cd-046a69fd36eb\"'.\n",
      "  warn(\n",
      "Traceback (most recent call last):\n",
      "  File \"/homw/winx/.conda/envs/mlops-project-monitoring/lib/python3.9/site-packages/ipykernel_launcher.py\", line 16, in <module>\n",
      "    app.launch_new_instance()\n",
      "  File \"/homw/winx/.conda/envs/mlops-project-monitoring/lib/python3.9/site-packages/traitlets/config/application.py\", line 845, in launch_instance\n",
      "    app.initialize(argv)\n",
      "  File \"/homw/winx/.conda/envs/mlops-project-monitoring/lib/python3.9/site-packages/traitlets/config/application.py\", line 88, in inner\n",
      "    return method(app, *args, **kwargs)\n",
      "  File \"/homw/winx/.conda/envs/mlops-project-monitoring/lib/python3.9/site-packages/ipykernel/kernelapp.py\", line 632, in initialize\n",
      "    self.init_sockets()\n",
      "  File \"/homw/winx/.conda/envs/mlops-project-monitoring/lib/python3.9/site-packages/ipykernel/kernelapp.py\", line 282, in init_sockets\n",
      "    self.shell_port = self._bind_socket(self.shell_socket, self.shell_port)\n",
      "  File \"/homw/winx/.conda/envs/mlops-project-monitoring/lib/python3.9/site-packages/ipykernel/kernelapp.py\", line 229, in _bind_socket\n",
      "    return self._try_bind_socket(s, port)\n",
      "  File \"/homw/winx/.conda/envs/mlops-project-monitoring/lib/python3.9/site-packages/ipykernel/kernelapp.py\", line 205, in _try_bind_socket\n",
      "    s.bind(\"tcp://%s:%i\" % (self.ip, port))\n",
      "  File \"/homw/winx/.conda/envs/mlops-project-monitoring/lib/python3.9/site-packages/zmq/sugar/socket.py\", line 229, in bind\n",
      "    super().bind(addr)\n",
      "  File \"zmq/backend/cython/socket.pyx\", line 562, in zmq.backend.cython.socket.Socket.bind\n",
      "  File \"zmq/backend/cython/checkrc.pxd\", line 28, in zmq.backend.cython.checkrc._check_rc\n",
      "zmq.error.ZMQError: Address already in use\n"
     ]
    },
    {
     "ename": "SystemExit",
     "evalue": "1",
     "output_type": "error",
     "traceback": [
      "An exception has occurred, use %tb to see the full traceback.\n",
      "\u001b[0;31mSystemExit\u001b[0m\u001b[0;31m:\u001b[0m 1\n"
     ]
    },
    {
     "name": "stderr",
     "output_type": "stream",
     "text": [
      "/homw/winx/.conda/envs/mlops-project-monitoring/lib/python3.9/site-packages/IPython/core/interactiveshell.py:3406: UserWarning: To exit: use 'exit', 'quit', or Ctrl-D.\n",
      "  warn(\"To exit: use 'exit', 'quit', or Ctrl-D.\", stacklevel=1)\n"
     ]
    },
    {
     "ename": "",
     "evalue": "",
     "output_type": "error",
     "traceback": [
      "The Kernel crashed while executing code in the the current cell or a previous cell. Please review the code in the cell(s) to identify a possible cause of the failure. Click <a href='https://aka.ms/vscodeJupyterKernelCrash'>here</a> for more info. View Jupyter <a href='command:jupyter.viewOutput'>log</a> for further details."
     ]
    }
   ],
   "source": [
    "import os\n",
    "import json\n",
    "import pandas as pd\n",
    "\n",
    "import mlflow\n",
    "\n",
    "import requests\n",
    "from flask import Flask, request, jsonify\n",
    "\n",
    "from pymongo import MongoClient\n",
    "\n",
    "PUBLIC_SERVER_IP = os.getenv(\"PUBLIC_SERVER_IP\")\n",
    "# EVIDENTLY_SERVICE_ADDRESS = os.getenv('EVIDENTLY_SERVICE', 'http://127.0.0.1:6000') #Original was 5000 is used by MLFlow\n",
    "# MONGODB_ADDRESS = os.getenv(\"MONGODB_ADDRESS\", \"mongodb://127.0.0.1:27017\")\n",
    "\n",
    "print(f\"... Connecting to MLFlow Server on {PUBLIC_SERVER_IP} ...\")\n",
    "\n",
    "# MLFLOW_TRACKING_URI = 'sqlite:///../mlops-project.db'\n",
    "MLFLOW_TRACKING_URI = f\"http://{PUBLIC_SERVER_IP}:5000\"\n",
    "# mlflow.set_tracking_uri(\"http://127.0.0.1:5000/\")\n",
    "mlflow.set_tracking_uri(MLFLOW_TRACKING_URI)\n",
    "\n",
    "mongo_client = MongoClient(MONGODB_ADDRESS)\n",
    "db = mongo_client.get_database(\"prediction_service\")\n",
    "collection = db.get_collection(\"data\")\n",
    "\n",
    "model_name = \"Auction-car-prices-prediction\"\n",
    "model_uri = f\"models:/{model_name}/production\"\n",
    "\n",
    "print(\"... Loading prediction model from production stage ...\")\n",
    "\n",
    "model = mlflow.pyfunc.load_model(model_uri=model_uri)\n",
    "\n",
    "def prediction(record):\n",
    "    record_df = pd.DataFrame([record])\n",
    "    price_prediction = model.predict(record_df)\n",
    "\n",
    "    return float(price_prediction[0])\n",
    "\n",
    "def save_to_db(record, prediction):\n",
    "    rec = record.copy()\n",
    "    rec['prediction'] = prediction\n",
    "    collection.insert_one(rec)\n",
    "\n",
    "\n",
    "def send_to_evidently_service(record, prediction):\n",
    "    rec = record.copy()\n",
    "    rec['prediction'] = prediction\n",
    "    requests.post(f\"{EVIDENTLY_SERVICE_ADDRESS}/iterate/taxi\", json=[rec])\n",
    "\n",
    "print(\"... Ready to requests ...\")\n",
    "\n",
    "app = Flask(\"Car-price-prediction-service\")\n",
    "\n",
    "@app.route('/prediction', methods = ['POST'])\n",
    "def prediction_endpoint():\n",
    "    \n",
    "    record = request.get_json()\n",
    "    print(\"\\nEstimating of the car with following characteristics\\n\", json.dumps(record, indent=4))\n",
    "    \n",
    "    price_prediction = prediction(record)\n",
    "    print(price_prediction)\n",
    "    result = {\n",
    "        \"price_estimation\": price_prediction\n",
    "    }\n",
    "    \n",
    "    save_to_db(record, float(price_prediction))\n",
    "    send_to_evidently_service(record, float(price_prediction))\n",
    "    return jsonify(result)\n",
    "\n",
    "# if __name__ == \"__main__\":\n",
    "#     app.run(debug=True, host='0.0.0.0', port=9696)\n",
    "\n"
   ]
  },
  {
   "cell_type": "code",
   "execution_count": 3,
   "metadata": {},
   "outputs": [
    {
     "name": "stdout",
     "output_type": "stream",
     "text": [
      "51.250.101.205\n"
     ]
    }
   ],
   "source": [
    "PUBLIC_SERVER_IP = os.getenv(\"PUBLIC_SERVER_IP\")\n",
    "print(PUBLIC_SERVER_IP)"
   ]
  },
  {
   "cell_type": "code",
   "execution_count": 1,
   "metadata": {},
   "outputs": [
    {
     "name": "stdout",
     "output_type": "stream",
     "text": [
      "env: PUBLIC_SERVER_IP=51.250.101.205\n"
     ]
    }
   ],
   "source": [
    "%env PUBLIC_SERVER_IP=51.250.101.205"
   ]
  },
  {
   "cell_type": "code",
   "execution_count": null,
   "metadata": {},
   "outputs": [],
   "source": []
  }
 ],
 "metadata": {
  "kernelspec": {
   "display_name": "Python 3.9.12 ('mlops-project-monitoring')",
   "language": "python",
   "name": "python3"
  },
  "language_info": {
   "codemirror_mode": {
    "name": "ipython",
    "version": 3
   },
   "file_extension": ".py",
   "mimetype": "text/x-python",
   "name": "python",
   "nbconvert_exporter": "python",
   "pygments_lexer": "ipython3",
   "version": "3.9.12"
  },
  "orig_nbformat": 4,
  "vscode": {
   "interpreter": {
    "hash": "273db27f1a8bad680e5d21b96392c12b68fb1930e920d85d7613e044aed1c985"
   }
  }
 },
 "nbformat": 4,
 "nbformat_minor": 2
}
