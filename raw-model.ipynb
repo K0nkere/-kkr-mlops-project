{
 "cells": [
  {
   "cell_type": "code",
   "execution_count": 69,
   "metadata": {},
   "outputs": [
    {
     "data": {
      "text/html": [
       "<div>\n",
       "<style scoped>\n",
       "    .dataframe tbody tr th:only-of-type {\n",
       "        vertical-align: middle;\n",
       "    }\n",
       "\n",
       "    .dataframe tbody tr th {\n",
       "        vertical-align: top;\n",
       "    }\n",
       "\n",
       "    .dataframe thead th {\n",
       "        text-align: right;\n",
       "    }\n",
       "</style>\n",
       "<table border=\"1\" class=\"dataframe\">\n",
       "  <thead>\n",
       "    <tr style=\"text-align: right;\">\n",
       "      <th></th>\n",
       "      <th>year</th>\n",
       "      <th>make</th>\n",
       "      <th>model</th>\n",
       "      <th>trim</th>\n",
       "      <th>body</th>\n",
       "      <th>transmission</th>\n",
       "      <th>vin</th>\n",
       "      <th>state</th>\n",
       "      <th>condition</th>\n",
       "      <th>odometer</th>\n",
       "      <th>color</th>\n",
       "      <th>interior</th>\n",
       "      <th>seller</th>\n",
       "      <th>mmr</th>\n",
       "      <th>sellingprice</th>\n",
       "      <th>saledate</th>\n",
       "    </tr>\n",
       "  </thead>\n",
       "  <tbody>\n",
       "    <tr>\n",
       "      <th>0</th>\n",
       "      <td>2013</td>\n",
       "      <td>Nissan</td>\n",
       "      <td>Altima</td>\n",
       "      <td>2.5</td>\n",
       "      <td>Sedan</td>\n",
       "      <td>NaN</td>\n",
       "      <td>1n4al3ap7dc292314</td>\n",
       "      <td>sc</td>\n",
       "      <td>4.2</td>\n",
       "      <td>37240.0</td>\n",
       "      <td>burgundy</td>\n",
       "      <td>beige</td>\n",
       "      <td>enterprise veh exchange/rental</td>\n",
       "      <td>13700</td>\n",
       "      <td>12600</td>\n",
       "      <td>2014-01-01 09:15:00</td>\n",
       "    </tr>\n",
       "    <tr>\n",
       "      <th>1</th>\n",
       "      <td>2006</td>\n",
       "      <td>Chrysler</td>\n",
       "      <td>300</td>\n",
       "      <td>C</td>\n",
       "      <td>Sedan</td>\n",
       "      <td>automatic</td>\n",
       "      <td>2c3la63h46h291271</td>\n",
       "      <td>sc</td>\n",
       "      <td>3.0</td>\n",
       "      <td>94901.0</td>\n",
       "      <td>silver</td>\n",
       "      <td>gray</td>\n",
       "      <td>bethpage fcu</td>\n",
       "      <td>7275</td>\n",
       "      <td>6300</td>\n",
       "      <td>2014-01-01 09:15:00</td>\n",
       "    </tr>\n",
       "    <tr>\n",
       "      <th>2</th>\n",
       "      <td>2014</td>\n",
       "      <td>Chevrolet</td>\n",
       "      <td>Malibu</td>\n",
       "      <td>LT</td>\n",
       "      <td>Sedan</td>\n",
       "      <td>automatic</td>\n",
       "      <td>1g11e5slxef160832</td>\n",
       "      <td>sc</td>\n",
       "      <td>2.8</td>\n",
       "      <td>36385.0</td>\n",
       "      <td>black</td>\n",
       "      <td>gray</td>\n",
       "      <td>enterprise veh exchange/rental</td>\n",
       "      <td>14200</td>\n",
       "      <td>13300</td>\n",
       "      <td>2014-01-01 09:15:00</td>\n",
       "    </tr>\n",
       "    <tr>\n",
       "      <th>3</th>\n",
       "      <td>2014</td>\n",
       "      <td>Chevrolet</td>\n",
       "      <td>Malibu</td>\n",
       "      <td>LT</td>\n",
       "      <td>Sedan</td>\n",
       "      <td>automatic</td>\n",
       "      <td>1g11e5sl4ef137451</td>\n",
       "      <td>sc</td>\n",
       "      <td>2.7</td>\n",
       "      <td>27495.0</td>\n",
       "      <td>black</td>\n",
       "      <td>black</td>\n",
       "      <td>enterprise veh exchange/rental</td>\n",
       "      <td>14800</td>\n",
       "      <td>13800</td>\n",
       "      <td>2014-01-01 09:15:00</td>\n",
       "    </tr>\n",
       "    <tr>\n",
       "      <th>4</th>\n",
       "      <td>2000</td>\n",
       "      <td>jeep</td>\n",
       "      <td>wrangler</td>\n",
       "      <td>4x4 4c se</td>\n",
       "      <td>NaN</td>\n",
       "      <td>manual</td>\n",
       "      <td>1j4fa29p0yp701279</td>\n",
       "      <td>sc</td>\n",
       "      <td>1.9</td>\n",
       "      <td>161099.0</td>\n",
       "      <td>black</td>\n",
       "      <td>tan</td>\n",
       "      <td>enterprise car sales</td>\n",
       "      <td>5025</td>\n",
       "      <td>4000</td>\n",
       "      <td>2014-01-01 09:15:00</td>\n",
       "    </tr>\n",
       "  </tbody>\n",
       "</table>\n",
       "</div>"
      ],
      "text/plain": [
       "   year       make     model       trim   body transmission  \\\n",
       "0  2013     Nissan    Altima        2.5  Sedan          NaN   \n",
       "1  2006   Chrysler       300          C  Sedan    automatic   \n",
       "2  2014  Chevrolet    Malibu         LT  Sedan    automatic   \n",
       "3  2014  Chevrolet    Malibu         LT  Sedan    automatic   \n",
       "4  2000       jeep  wrangler  4x4 4c se    NaN       manual   \n",
       "\n",
       "                 vin state  condition  odometer     color interior  \\\n",
       "0  1n4al3ap7dc292314    sc        4.2   37240.0  burgundy    beige   \n",
       "1  2c3la63h46h291271    sc        3.0   94901.0    silver     gray   \n",
       "2  1g11e5slxef160832    sc        2.8   36385.0     black     gray   \n",
       "3  1g11e5sl4ef137451    sc        2.7   27495.0     black    black   \n",
       "4  1j4fa29p0yp701279    sc        1.9  161099.0     black      tan   \n",
       "\n",
       "                           seller    mmr  sellingprice             saledate  \n",
       "0  enterprise veh exchange/rental  13700         12600  2014-01-01 09:15:00  \n",
       "1                    bethpage fcu   7275          6300  2014-01-01 09:15:00  \n",
       "2  enterprise veh exchange/rental  14200         13300  2014-01-01 09:15:00  \n",
       "3  enterprise veh exchange/rental  14800         13800  2014-01-01 09:15:00  \n",
       "4            enterprise car sales   5025          4000  2014-01-01 09:15:00  "
      ]
     },
     "execution_count": 69,
     "metadata": {},
     "output_type": "execute_result"
    }
   ],
   "source": [
    "import boto3\n",
    "import pyarrow\n",
    "import pickle\n",
    "\n",
    "import pandas as pd\n",
    "import numpy as np\n",
    "\n",
    "from sklearn.compose import ColumnTransformer\n",
    "from sklearn.preprocessing import OneHotEncoder\n",
    "from sklearn.impute import SimpleImputer\n",
    "from sklearn.pipeline import Pipeline\n",
    "\n",
    "from sklearn.feature_extraction import DictVectorizer\n",
    "\n",
    "from sklearn.model_selection import train_test_split\n",
    "from sklearn.metrics import mean_squared_error\n",
    "\n",
    "from xgboost import XGBRegressor\n",
    "\n",
    "session = boto3.session.Session()\n",
    "s3 = session.client(\n",
    "    service_name='s3',\n",
    "    endpoint_url='https://storage.yandexcloud.net',\n",
    "    region_name='ru-central1',\n",
    "    # aws_access_key_id = \"id\",\n",
    "    # aws_secret_access_key = \"key\")\n",
    ")\n",
    "obj = s3.get_object(Bucket='kkr-mlops-zoomcamp', Key='datasets/car-prices-train.csv')\n",
    "\n",
    "data = pd.read_csv(obj['Body'])\n",
    "data.head()"
   ]
  },
  {
   "cell_type": "code",
   "execution_count": 70,
   "metadata": {},
   "outputs": [],
   "source": [
    "def na_filter(data):\n",
    "    work_data = data.copy()\n",
    "    non_type = work_data[data['make'].isna() | data['model'].isna() | data['trim'].isna()].index\n",
    "    work_data.drop(non_type, axis=0, inplace=True)\n",
    "\n",
    "    y = work_data.pop('sellingprice')\n",
    "\n",
    "    return work_data, y\n",
    "\n",
    "def preprocessor(work_data, features_filler=None, DV=None):\n",
    "    # work_data = data.copy()\n",
    "    num_2_impute = ['condition', 'odometer', 'mmr']\n",
    "    cat_2_impute = ['body', 'transmission']\n",
    "    constant_2_impute = ['color', 'interior']\n",
    "\n",
    "    if not features_filler:\n",
    "        features_filler = ColumnTransformer([\n",
    "            ('num_imputer', SimpleImputer(missing_values=np.nan, strategy='mean'), num_2_impute),\n",
    "            ('cat_imputer', SimpleImputer(missing_values=np.nan, strategy='most_frequent'), cat_2_impute),\n",
    "            ('cat_constant', SimpleImputer(missing_values=np.nan, strategy='constant', fill_value='unknown'), constant_2_impute)\n",
    "            ]\n",
    "        )\n",
    "\n",
    "        work_data[num_2_impute + cat_2_impute + constant_2_impute] = features_filler.fit_transform(work_data[num_2_impute + cat_2_impute + constant_2_impute])\n",
    "    else:\n",
    "        work_data[num_2_impute + cat_2_impute + constant_2_impute] = features_filler.transform(work_data[num_2_impute + cat_2_impute + constant_2_impute])\n",
    "\n",
    "    cat_cols = ['year', 'make_model_trim', 'body', 'transmission', 'color', 'interior']\n",
    "    num_cols = ['condition', 'odometer', 'mmr']\n",
    "\n",
    "    work_data['make_model_trim'] = work_data['make'] + '_'  + work_data['model'] + '_' + work_data['trim']\n",
    "    work_data['year'] = work_data['year'].astype('str')\n",
    "\n",
    "    X = work_data[cat_cols + num_cols].copy()\n",
    "\n",
    "    if not DV:\n",
    "        DV = DictVectorizer()\n",
    "\n",
    "        X_dict = X[cat_cols + num_cols].to_dict(orient = 'records')\n",
    "        X = DV.fit_transform(X_dict)\n",
    "    else:\n",
    "        X = DV.transform(X_dict)\n",
    "\n",
    "    # features_preprocessor = pipeline(steps = [\n",
    "    #     ('imputer', features_filler),\n",
    "    #     ('dict_vectorizer', DV)\n",
    "    # ])\n",
    "\n",
    "    return X, features_filler, DV"
   ]
  },
  {
   "cell_type": "code",
   "execution_count": 71,
   "metadata": {},
   "outputs": [],
   "source": [
    "work_data, y = na_filter(data)\n",
    "X, features_filler, DV = preprocessor(work_data, None, None)"
   ]
  },
  {
   "cell_type": "code",
   "execution_count": 74,
   "metadata": {},
   "outputs": [
    {
     "data": {
      "text/plain": [
       "DictVectorizer()"
      ]
     },
     "execution_count": 74,
     "metadata": {},
     "output_type": "execute_result"
    }
   ],
   "source": [
    "DV"
   ]
  },
  {
   "cell_type": "code",
   "execution_count": 64,
   "metadata": {},
   "outputs": [
    {
     "data": {
      "text/plain": [
       "year                0\n",
       "make                0\n",
       "model               0\n",
       "trim                0\n",
       "body             2542\n",
       "transmission    43141\n",
       "vin                 0\n",
       "state               0\n",
       "condition       11634\n",
       "odometer           80\n",
       "color             542\n",
       "interior          542\n",
       "seller              0\n",
       "mmr                 0\n",
       "saledate            0\n",
       "dtype: int64"
      ]
     },
     "execution_count": 64,
     "metadata": {},
     "output_type": "execute_result"
    }
   ],
   "source": [
    "work_data.isna().sum()"
   ]
  },
  {
   "cell_type": "code",
   "execution_count": 65,
   "metadata": {},
   "outputs": [
    {
     "data": {
      "text/plain": [
       "0         12600\n",
       "1          6300\n",
       "2         13300\n",
       "3         13800\n",
       "4          4000\n",
       "          ...  \n",
       "403661    17000\n",
       "403662    13500\n",
       "403663      225\n",
       "403664      350\n",
       "403665    11000\n",
       "Name: sellingprice, Length: 396085, dtype: int64"
      ]
     },
     "execution_count": 65,
     "metadata": {},
     "output_type": "execute_result"
    }
   ],
   "source": [
    "y"
   ]
  },
  {
   "cell_type": "code",
   "execution_count": 6,
   "metadata": {},
   "outputs": [],
   "source": [
    "X_train, X_valid, y_train, y_valid = train_test_split(X, y, test_size=0.25, random_state=42)"
   ]
  },
  {
   "cell_type": "code",
   "execution_count": 16,
   "metadata": {},
   "outputs": [],
   "source": [
    "\n",
    "\n",
    "X_valid = X_valid.fillna(-1)\n",
    "X_valid_dict = X_valid[cat_cols + num_cols].to_dict(orient = 'records')\n",
    "valid = DV.transform(X_valid_dict)\n",
    "# OHE = OneHotEncoder(sparse=False)\n",
    "# OHE.fit(X_train)\n",
    "# X_cats_train = OHE.transform(X_train)\n",
    "# np.hstack([X_cats_train, X_train[num_cols].values]).shape"
   ]
  },
  {
   "cell_type": "code",
   "execution_count": 20,
   "metadata": {},
   "outputs": [
    {
     "data": {
      "text/plain": [
       "XGBRegressor(base_score=0.5, booster='gbtree', callbacks=None,\n",
       "             colsample_bylevel=1, colsample_bynode=1, colsample_bytree=1,\n",
       "             early_stopping_rounds=None, enable_categorical=False,\n",
       "             eval_metric=None, gamma=0, gpu_id=-1, grow_policy='depthwise',\n",
       "             importance_type=None, interaction_constraints='',\n",
       "             learning_rate=0.300000012, max_bin=256, max_cat_to_onehot=4,\n",
       "             max_delta_step=0, max_depth=6, max_leaves=0, min_child_weight=1,\n",
       "             missing=nan, monotone_constraints='()', n_estimators=100, n_jobs=0,\n",
       "             num_parallel_tree=1, predictor='auto', random_state=0, reg_alpha=0,\n",
       "             reg_lambda=1, ...)"
      ]
     },
     "execution_count": 20,
     "metadata": {},
     "output_type": "execute_result"
    }
   ],
   "source": [
    "\n",
    "xgb = XGBRegressor()\n",
    "\n",
    "xgb.fit(train, y_train)"
   ]
  },
  {
   "cell_type": "code",
   "execution_count": 21,
   "metadata": {},
   "outputs": [],
   "source": [
    "prediction = xgb.predict(valid)"
   ]
  },
  {
   "cell_type": "code",
   "execution_count": 25,
   "metadata": {},
   "outputs": [
    {
     "data": {
      "text/plain": [
       "1428.5883189665612"
      ]
     },
     "execution_count": 25,
     "metadata": {},
     "output_type": "execute_result"
    }
   ],
   "source": [
    "\n",
    "mean_squared_error(y_valid, prediction, squared=False)\n"
   ]
  },
  {
   "cell_type": "code",
   "execution_count": 29,
   "metadata": {},
   "outputs": [
    {
     "data": {
      "text/plain": [
       "1490.6557620587303"
      ]
     },
     "execution_count": 29,
     "metadata": {},
     "output_type": "execute_result"
    }
   ],
   "source": [
    "from sklearn.linear_model import LinearRegression, Lasso, Ridge\n",
    "\n",
    "lr = LinearRegression()\n",
    "lr.fit(train, y_train)\n",
    "lr_pred = lr.predict(valid)\n",
    "\n",
    "mean_squared_error(y_valid, lr.predict(valid), squared=False)"
   ]
  },
  {
   "cell_type": "code",
   "execution_count": 32,
   "metadata": {},
   "outputs": [
    {
     "data": {
      "text/plain": [
       "1555.9927051420846"
      ]
     },
     "execution_count": 32,
     "metadata": {},
     "output_type": "execute_result"
    }
   ],
   "source": [
    "lr = Lasso()\n",
    "lr.fit(train, y_train)\n",
    "lr_pred = lr.predict(valid)\n",
    "\n",
    "mean_squared_error(y_train, lr.predict(train), squared=False)"
   ]
  },
  {
   "cell_type": "code",
   "execution_count": 33,
   "metadata": {},
   "outputs": [
    {
     "data": {
      "text/plain": [
       "1495.9684971730578"
      ]
     },
     "execution_count": 33,
     "metadata": {},
     "output_type": "execute_result"
    }
   ],
   "source": [
    "mean_squared_error(y_valid, lr.predict(valid), squared=False)"
   ]
  }
 ],
 "metadata": {
  "kernelspec": {
   "display_name": "Python 3.9.12 ('base')",
   "language": "python",
   "name": "python3"
  },
  "language_info": {
   "codemirror_mode": {
    "name": "ipython",
    "version": 3
   },
   "file_extension": ".py",
   "mimetype": "text/x-python",
   "name": "python",
   "nbconvert_exporter": "python",
   "pygments_lexer": "ipython3",
   "version": "3.9.12"
  },
  "orig_nbformat": 4,
  "vscode": {
   "interpreter": {
    "hash": "3896c710eaa6118cd87eb3929cad6bf103bd6fc939f7f0fa4f0adcbb9cf36bf7"
   }
  }
 },
 "nbformat": 4,
 "nbformat_minor": 2
}
