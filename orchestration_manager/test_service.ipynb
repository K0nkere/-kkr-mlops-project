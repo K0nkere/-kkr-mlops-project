{
 "cells": [
  {
   "cell_type": "code",
   "execution_count": 26,
   "metadata": {},
   "outputs": [
    {
     "name": "stdout",
     "output_type": "stream",
     "text": [
      "{}\n"
     ]
    }
   ],
   "source": [
    "import numpy as np\n",
    "import pandas as pd\n",
    "from datetime import datetime\n",
    "from deepdiff import DeepDiff\n",
    "\n",
    "import backend_services\n",
    "\n",
    "test_data = [\n",
    "        (2000,'toyota',\"sienna\",\"xle\",\"SUV\",\"automatic\",\"4t3zf13c3yu301239\",\"ca\",2.3,198168.0,\"white\",\"beige\",\"onemain remarketing services\",2125,1000,\"2015-01-14 04:30:00\"),\n",
    "        (2011,None, None, None,\"SUV\",\"automatic\",\"5n3aa08a57n801070\",\"ca\",2.0,86721.0,\"white\",\"black\",\"twin motor\",14350,13000,\"2015-01-06 12:30:00\"),\n",
    "        (2014,\"BMW\",None,None,\"Convertible\",\"automatic\",\"wbayp9c57ed169262\",\"ca\",3.8,10736.0,\"black\",\"black\",\"the hertz corporation\",67000,65000,\"2015-01-06 12:30:00\"),\n",
    "        (2015,None, None,\"Luxury\",\"Sedan\",\"automatic\",\"knalw4d42f6018633\",\"ca\",4.4,9684.0,\"white\",\"gray\",\"kia motors america, inc\",41000,41000,\"2015-01-20 04:30:00\"),\n",
    "        (2013,\"Hyundai\",\"Elantra\",\"GLS\",\"Sedan\",\"automatic\",None,\"ca\",1.0,24120.0,\"brown\",\"beige\",\"hyundai motor finance\",11950,5200,\"2015-01-13 12:00:00\"),\n",
    "        (2011,\"Hyundai\",\"Equus\",\"Signature\",\"Sedan\",\"automatic\",\"kmhgh4jf8bu042912\",\"ca\",None,36047.0,\"black\",\"black\",\"hyundai motor finance\",25500,26000,\"2015-01-20 04:30:00\")\n",
    "    ]\n",
    "\n",
    "expected_data = [\n",
    "        (2000,'toyota',\"sienna\",\"xle\",\"SUV\",\"automatic\",\"4t3zf13c3yu301239\",\"ca\",2.3,198168.0,\"white\",\"beige\",\"onemain remarketing services\",2125,1000,\"2015-01-14 04:30:00\"),\n",
    "        (2013,\"Hyundai\",\"Elantra\",\"GLS\",\"Sedan\",\"automatic\",None,\"ca\",1.0,24120.0,\"brown\",\"beige\",\"hyundai motor finance\",11950,5200,\"2015-01-13 12:00:00\"),\n",
    "        (2011,\"Hyundai\",\"Equus\",\"Signature\",\"Sedan\",\"automatic\",\"kmhgh4jf8bu042912\",\"ca\",None,36047.0,\"black\",\"black\",\"hyundai motor finance\",25500,26000,\"2015-01-20 04:30:00\")\n",
    "    ]\n",
    "\n",
    "columns = [\"year\",\"make\",\"model\",\"trim\",\"body\",\"transmission\",\"vin\",\"state\",\"condition\",\"odometer\",\"color\",\"interior\",\"seller\",\"mmr\",\"sellingprice\",\"saledate\"]\n",
    "\n",
    "test_dataframe = pd.DataFrame(test_data, columns=columns)\n",
    "\n",
    "expected_dataframe = pd.DataFrame(expected_data, columns=columns)\n",
    "expected_dataframe.drop(['sellingprice'], inplace=True, axis=1)\n",
    "\n",
    "actual_dataframe, _ = backend_services.na_filter(test_dataframe)\n",
    "\n",
    "diff = DeepDiff(expected_dataframe.replace({np.nan: None}).to_dict(orient=\"records\"), actual_dataframe.replace({np.nan: None}).to_dict(orient=\"records\"))\n",
    "print(diff)\n",
    "assert 'values_changed' not in diff"
   ]
  },
  {
   "cell_type": "code",
   "execution_count": 25,
   "metadata": {},
   "outputs": [
    {
     "data": {
      "text/plain": [
       "[{'year': 2000,\n",
       "  'make': 'toyota',\n",
       "  'model': 'sienna',\n",
       "  'trim': 'xle',\n",
       "  'body': 'SUV',\n",
       "  'transmission': 'automatic',\n",
       "  'vin': '4t3zf13c3yu301239',\n",
       "  'state': 'ca',\n",
       "  'condition': 2.3,\n",
       "  'odometer': 198168.0,\n",
       "  'color': 'white',\n",
       "  'interior': 'beige',\n",
       "  'seller': 'onemain remarketing services',\n",
       "  'mmr': 2125,\n",
       "  'saledate': '2015-01-14 04:30:00'},\n",
       " {'year': 2013,\n",
       "  'make': 'Hyundai',\n",
       "  'model': 'Elantra',\n",
       "  'trim': 'GLS',\n",
       "  'body': 'Sedan',\n",
       "  'transmission': 'automatic',\n",
       "  'vin': None,\n",
       "  'state': 'ca',\n",
       "  'condition': 1.0,\n",
       "  'odometer': 24120.0,\n",
       "  'color': 'brown',\n",
       "  'interior': 'beige',\n",
       "  'seller': 'hyundai motor finance',\n",
       "  'mmr': 11950,\n",
       "  'saledate': '2015-01-13 12:00:00'},\n",
       " {'year': 2011,\n",
       "  'make': 'Hyundai',\n",
       "  'model': 'Equus',\n",
       "  'trim': 'Signature',\n",
       "  'body': 'Sedan',\n",
       "  'transmission': 'automatic',\n",
       "  'vin': 'kmhgh4jf8bu042912',\n",
       "  'state': 'ca',\n",
       "  'condition': None,\n",
       "  'odometer': 36047.0,\n",
       "  'color': 'black',\n",
       "  'interior': 'black',\n",
       "  'seller': 'hyundai motor finance',\n",
       "  'mmr': 25500,\n",
       "  'saledate': '2015-01-20 04:30:00'}]"
      ]
     },
     "execution_count": 25,
     "metadata": {},
     "output_type": "execute_result"
    }
   ],
   "source": [
    "expected_dataframe.replace({np.nan: None}).to_dict(orient=\"records\")"
   ]
  },
  {
   "cell_type": "code",
   "execution_count": 1,
   "metadata": {},
   "outputs": [],
   "source": [
    "class MockModel:\n",
    "    def __init__(self, value):\n",
    "        self.value = value\n",
    "\n",
    "    def predict(self, data):\n",
    "        n = len(data)\n",
    "\n",
    "        return [self.value]*n\n",
    "\n",
    "    def transform(self, data):\n",
    "        return data"
   ]
  },
  {
   "cell_type": "code",
   "execution_count": 7,
   "metadata": {},
   "outputs": [],
   "source": [
    "mock_model = MockModel(1000.0)\n",
    "# model_mock.predict(test_data)"
   ]
  },
  {
   "cell_type": "code",
   "execution_count": 6,
   "metadata": {},
   "outputs": [
    {
     "ename": "AttributeError",
     "evalue": "module 'batch_service' has no attribute 'transform'",
     "output_type": "error",
     "traceback": [
      "\u001b[0;31m---------------------------------------------------------------------------\u001b[0m",
      "\u001b[0;31mAttributeError\u001b[0m                            Traceback (most recent call last)",
      "Cell \u001b[0;32mIn [6], line 2\u001b[0m\n\u001b[1;32m      1\u001b[0m \u001b[38;5;28;01mimport\u001b[39;00m \u001b[38;5;21;01mbatch_service\u001b[39;00m\n\u001b[0;32m----> 2\u001b[0m \u001b[43mbatch_service\u001b[49m\u001b[38;5;241;43m.\u001b[39;49m\u001b[43mtransform\u001b[49m(test_data, model \u001b[38;5;241m=\u001b[39m model_mock)\n",
      "\u001b[0;31mAttributeError\u001b[0m: module 'batch_service' has no attribute 'transform'"
     ]
    }
   ],
   "source": [
    "import backend_services\n",
    "backend_services.prediction(test_data, model = mock_model)"
   ]
  },
  {
   "cell_type": "code",
   "execution_count": 9,
   "metadata": {},
   "outputs": [
    {
     "ename": "AttributeError",
     "evalue": "'list' object has no attribute 'to_dict'",
     "output_type": "error",
     "traceback": [
      "\u001b[0;31m---------------------------------------------------------------------------\u001b[0m",
      "\u001b[0;31mAttributeError\u001b[0m                            Traceback (most recent call last)",
      "Cell \u001b[0;32mIn [9], line 1\u001b[0m\n\u001b[0;32m----> 1\u001b[0m record_df \u001b[38;5;241m=\u001b[39m pd\u001b[38;5;241m.\u001b[39mDataFrame([\u001b[43mtest_data\u001b[49m\u001b[38;5;241;43m.\u001b[39;49m\u001b[43mto_dict\u001b[49m()])\n\u001b[1;32m      2\u001b[0m \u001b[38;5;66;03m# price_prediction = mock_model.predict(record_df)\u001b[39;00m\n\u001b[1;32m      3\u001b[0m record_df\n",
      "\u001b[0;31mAttributeError\u001b[0m: 'list' object has no attribute 'to_dict'"
     ]
    }
   ],
   "source": [
    "\n",
    "record_df = pd.DataFrame([test_data])\n",
    "# price_prediction = mock_model.predict(record_df)\n",
    "record_df"
   ]
  },
  {
   "cell_type": "code",
   "execution_count": 12,
   "metadata": {},
   "outputs": [
    {
     "data": {
      "text/html": [
       "<div>\n",
       "<style scoped>\n",
       "    .dataframe tbody tr th:only-of-type {\n",
       "        vertical-align: middle;\n",
       "    }\n",
       "\n",
       "    .dataframe tbody tr th {\n",
       "        vertical-align: top;\n",
       "    }\n",
       "\n",
       "    .dataframe thead th {\n",
       "        text-align: right;\n",
       "    }\n",
       "</style>\n",
       "<table border=\"1\" class=\"dataframe\">\n",
       "  <thead>\n",
       "    <tr style=\"text-align: right;\">\n",
       "      <th></th>\n",
       "      <th>year</th>\n",
       "      <th>make</th>\n",
       "      <th>model</th>\n",
       "      <th>trim</th>\n",
       "      <th>body</th>\n",
       "      <th>transmission</th>\n",
       "      <th>vin</th>\n",
       "      <th>state</th>\n",
       "      <th>condition</th>\n",
       "      <th>odometer</th>\n",
       "      <th>color</th>\n",
       "      <th>interior</th>\n",
       "      <th>seller</th>\n",
       "      <th>mmr</th>\n",
       "      <th>sellingprice</th>\n",
       "      <th>saledate</th>\n",
       "    </tr>\n",
       "  </thead>\n",
       "  <tbody>\n",
       "    <tr>\n",
       "      <th>0</th>\n",
       "      <td>2013</td>\n",
       "      <td>Hyundai</td>\n",
       "      <td>Elantra</td>\n",
       "      <td>GLS</td>\n",
       "      <td>Sedan</td>\n",
       "      <td>automatic</td>\n",
       "      <td>None</td>\n",
       "      <td>ca</td>\n",
       "      <td>1.0</td>\n",
       "      <td>24120.0</td>\n",
       "      <td>brown</td>\n",
       "      <td>beige</td>\n",
       "      <td>hyundai motor finance</td>\n",
       "      <td>11950</td>\n",
       "      <td>5200</td>\n",
       "      <td>2015-01-13 12:00:00</td>\n",
       "    </tr>\n",
       "  </tbody>\n",
       "</table>\n",
       "</div>"
      ],
      "text/plain": [
       "   year     make    model trim   body transmission   vin state  condition  \\\n",
       "0  2013  Hyundai  Elantra  GLS  Sedan    automatic  None    ca        1.0   \n",
       "\n",
       "   odometer  color interior                 seller    mmr  sellingprice  \\\n",
       "0   24120.0  brown    beige  hyundai motor finance  11950          5200   \n",
       "\n",
       "              saledate  \n",
       "0  2015-01-13 12:00:00  "
      ]
     },
     "execution_count": 12,
     "metadata": {},
     "output_type": "execute_result"
    }
   ],
   "source": [
    "test_record = (2013,\"Hyundai\",\"Elantra\",\"GLS\",\"Sedan\",\"automatic\",None,\"ca\",1.0,24120.0,\"brown\",\"beige\",\"hyundai motor finance\",11950,5200,\"2015-01-13 12:00:00\")\n",
    "columns = [\"year\",\"make\",\"model\",\"trim\",\"body\",\"transmission\",\"vin\",\"state\",\"condition\",\"odometer\",\"color\",\"interior\",\"seller\",\"mmr\",\"sellingprice\",\"saledate\"]\n",
    "\n",
    "test_data = dict(zip(columns, test_record))\n",
    "record_df = pd.DataFrame([test_data])\n",
    "record_df"
   ]
  }
 ],
 "metadata": {
  "kernelspec": {
   "display_name": "Python 3.9.12 ('orchestration_manager-q4JQzXiY')",
   "language": "python",
   "name": "python3"
  },
  "language_info": {
   "codemirror_mode": {
    "name": "ipython",
    "version": 3
   },
   "file_extension": ".py",
   "mimetype": "text/x-python",
   "name": "python",
   "nbconvert_exporter": "python",
   "pygments_lexer": "ipython3",
   "version": "3.9.12"
  },
  "orig_nbformat": 4,
  "vscode": {
   "interpreter": {
    "hash": "da4e2655dcedcef90c58a412e9ad644fab96a2a7895628d49bca28ca766faf43"
   }
  }
 },
 "nbformat": 4,
 "nbformat_minor": 2
}
