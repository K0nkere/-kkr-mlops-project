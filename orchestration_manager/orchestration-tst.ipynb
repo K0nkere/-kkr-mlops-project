{
 "cells": [
  {
   "cell_type": "code",
   "execution_count": 26,
   "metadata": {},
   "outputs": [],
   "source": [
    "import prefect\n",
    "import prefect.orion.api.deployments as Deployment\n",
    "import prefect.engine as eng\n",
    "import prefect_model"
   ]
  },
  {
   "cell_type": "code",
   "execution_count": 27,
   "metadata": {},
   "outputs": [
    {
     "data": {
      "text/plain": [
       "<coroutine object read_deployments at 0x7f334966cec0>"
      ]
     },
     "execution_count": 27,
     "metadata": {},
     "output_type": "execute_result"
    }
   ],
   "source": [
    "Deployment.read_deployments(limit=5)"
   ]
  },
  {
   "cell_type": "code",
   "execution_count": 25,
   "metadata": {},
   "outputs": [
    {
     "ename": "TypeError",
     "evalue": "coroutine.send() takes exactly one argument (0 given)",
     "output_type": "error",
     "traceback": [
      "\u001b[0;31m---------------------------------------------------------------------------\u001b[0m",
      "\u001b[0;31mTypeError\u001b[0m                                 Traceback (most recent call last)",
      "Cell \u001b[0;32mIn [25], line 9\u001b[0m\n\u001b[1;32m      2\u001b[0m \u001b[38;5;66;03m# eng.begin_flow_run(\u001b[39;00m\n\u001b[1;32m      3\u001b[0m \u001b[38;5;66;03m#     flow = prefect_model.main,\u001b[39;00m\n\u001b[1;32m      4\u001b[0m \u001b[38;5;66;03m#     flow_run: FlowRun,\u001b[39;00m\n\u001b[1;32m      5\u001b[0m \u001b[38;5;66;03m#     parameters: Dict[str, Any],\u001b[39;00m\n\u001b[1;32m      6\u001b[0m \u001b[38;5;66;03m#     client: OrionClient,\u001b[39;00m\n\u001b[1;32m      7\u001b[0m \u001b[38;5;66;03m# )\u001b[39;00m\n\u001b[1;32m      8\u001b[0m run \u001b[38;5;241m=\u001b[39m client\u001b[38;5;241m.\u001b[39mcreate_flow_run_from_deployment(deployment_id\u001b[38;5;241m=\u001b[39m\u001b[38;5;124m\"\u001b[39m\u001b[38;5;124m5849fa1e-77fc-4bd7-8ac1-7a168f885627\u001b[39m\u001b[38;5;124m\"\u001b[39m, state\u001b[38;5;241m=\u001b[39m\u001b[38;5;124m\"\u001b[39m\u001b[38;5;124mScheduled\u001b[39m\u001b[38;5;124m\"\u001b[39m)\n\u001b[0;32m----> 9\u001b[0m \u001b[43mrun\u001b[49m\u001b[38;5;241;43m.\u001b[39;49m\u001b[43msend\u001b[49m\u001b[43m(\u001b[49m\u001b[43m)\u001b[49m\n",
      "\u001b[0;31mTypeError\u001b[0m: coroutine.send() takes exactly one argument (0 given)"
     ]
    }
   ],
   "source": [
    "client = prefect.get_client()\n",
    "run = eng.begin_flow_run(\n",
    "    flow = prefect_model.main,\n",
    "    flow_run: FlowRun,\n",
    "    parameters: Dict[str, Any],\n",
    "    client: OrionClient,\n",
    ")\n",
    "# run = client.create_flow_run_from_deployment(deployment_id=\"5849fa1e-77fc-4bd7-8ac1-7a168f885627\", state=\"Scheduled\")\n",
    "# run."
   ]
  },
  {
   "cell_type": "code",
   "execution_count": 38,
   "metadata": {},
   "outputs": [
    {
     "name": "stderr",
     "output_type": "stream",
     "text": [
      "/tmp/ipykernel_5498/1008066733.py:4: RuntimeWarning: coroutine 'Deployment.build_from_flow' was never awaited\n",
      "  deployment = Deployment.build_from_flow(\n",
      "RuntimeWarning: Enable tracemalloc to get the object allocation traceback\n"
     ]
    },
    {
     "ename": "AttributeError",
     "evalue": "'coroutine' object has no attribute 'apply'",
     "output_type": "error",
     "traceback": [
      "\u001b[0;31m---------------------------------------------------------------------------\u001b[0m",
      "\u001b[0;31mAttributeError\u001b[0m                            Traceback (most recent call last)",
      "Cell \u001b[0;32mIn [38], line 10\u001b[0m\n\u001b[1;32m      2\u001b[0m \u001b[38;5;28;01mfrom\u001b[39;00m \u001b[38;5;21;01mprefect\u001b[39;00m\u001b[38;5;21;01m.\u001b[39;00m\u001b[38;5;21;01mdeployments\u001b[39;00m \u001b[38;5;28;01mimport\u001b[39;00m Deployment\n\u001b[1;32m      4\u001b[0m deployment \u001b[38;5;241m=\u001b[39m Deployment\u001b[38;5;241m.\u001b[39mbuild_from_flow(\n\u001b[1;32m      5\u001b[0m     flow\u001b[38;5;241m=\u001b[39mprefect_model\u001b[38;5;241m.\u001b[39mmain,\n\u001b[1;32m      6\u001b[0m     name\u001b[38;5;241m=\u001b[39m\u001b[38;5;124m\"\u001b[39m\u001b[38;5;124mexample-deployment\u001b[39m\u001b[38;5;124m\"\u001b[39m, \n\u001b[1;32m      7\u001b[0m     version\u001b[38;5;241m=\u001b[39m\u001b[38;5;241m1\u001b[39m, \n\u001b[1;32m      8\u001b[0m     work_queue_name\u001b[38;5;241m=\u001b[39m\u001b[38;5;124m\"\u001b[39m\u001b[38;5;124mdemo\u001b[39m\u001b[38;5;124m\"\u001b[39m,\n\u001b[1;32m      9\u001b[0m )\n\u001b[0;32m---> 10\u001b[0m \u001b[43mdeployment\u001b[49m\u001b[38;5;241;43m.\u001b[39;49m\u001b[43mapply\u001b[49m()\n",
      "\u001b[0;31mAttributeError\u001b[0m: 'coroutine' object has no attribute 'apply'"
     ]
    }
   ],
   "source": [
    "import prefect_model\n",
    "from prefect.deployments import Deployment\n",
    "\n",
    "deployment = Deployment.build_from_flow(\n",
    "    flow=prefect_model.main,\n",
    "    name=\"example-deployment\", \n",
    "    version=1, \n",
    "    work_queue_name=\"demo\",\n",
    ")\n",
    "deployment.apply()"
   ]
  },
  {
   "cell_type": "code",
   "execution_count": null,
   "metadata": {},
   "outputs": [],
   "source": [
    "import os\n",
    "\n",
    "query = \"prefect deployment build prefect_model.py:main -n training-model -q project-manager\"\n",
    "os.system(query)"
   ]
  },
  {
   "cell_type": "code",
   "execution_count": 7,
   "metadata": {},
   "outputs": [
    {
     "name": "stdout",
     "output_type": "stream",
     "text": [
      "Successfully loaded 'training-model'\n",
      "Deployment 'main/training-model' successfully created with id \n",
      "'4aec119f-1086-4361-93cf-92a1baf2a7b6'.\n",
      "\n",
      "To execute flow runs from this deployment, start an agent that pulls work from \n",
      "the the 'project-manager' work queue:\n",
      "$ prefect agent start -q 'project-manager'\n"
     ]
    },
    {
     "data": {
      "text/plain": [
       "0"
      ]
     },
     "execution_count": 7,
     "metadata": {},
     "output_type": "execute_result"
    }
   ],
   "source": [
    "query = \"prefect deployment apply main-deployment.yaml\"\n",
    "os.system(query)"
   ]
  },
  {
   "cell_type": "code",
   "execution_count": 9,
   "metadata": {},
   "outputs": [
    {
     "name": "stdout",
     "output_type": "stream",
     "text": [
      "Successfully loaded 'monitoring-report'\n",
      "Deployment 'batch-analyze/monitoring-report' successfully created with id \n",
      "'623d55f6-a6a2-46c7-8131-01373a181ac4'.\n",
      "\n",
      "To execute flow runs from this deployment, start an agent that pulls work from \n",
      "the the 'project-manager' work queue:\n",
      "$ prefect agent start -q 'project-manager'\n"
     ]
    },
    {
     "data": {
      "text/plain": [
       "0"
      ]
     },
     "execution_count": 9,
     "metadata": {},
     "output_type": "execute_result"
    }
   ],
   "source": [
    "query = \"prefect deployment apply batch_analyze-deployment.yaml\"\n",
    "os.system(query)"
   ]
  },
  {
   "cell_type": "code",
   "execution_count": 10,
   "metadata": {},
   "outputs": [
    {
     "name": "stdout",
     "output_type": "stream",
     "text": [
      "                               Deployments                                \n",
      "┏━━━━━━━━━━━━━━━━━━━━━━━━━━━━━━━━━┳━━━━━━━━━━━━━━━━━━━━━━━━━━━━━━━━━━━━━━┓\n",
      "┃ Name                            ┃ ID                                   ┃\n",
      "┡━━━━━━━━━━━━━━━━━━━━━━━━━━━━━━━━━╇━━━━━━━━━━━━━━━━━━━━━━━━━━━━━━━━━━━━━━┩\n",
      "│ batch-analyze/monitoring-report │ 623d55f6-a6a2-46c7-8131-01373a181ac4 │\n",
      "│ main/training-model             │ 4aec119f-1086-4361-93cf-92a1baf2a7b6 │\n",
      "└─────────────────────────────────┴──────────────────────────────────────┘\n"
     ]
    },
    {
     "data": {
      "text/plain": [
       "0"
      ]
     },
     "execution_count": 10,
     "metadata": {},
     "output_type": "execute_result"
    }
   ],
   "source": [
    "query = \"prefect deployment ls\"\n",
    "os.system(query)"
   ]
  },
  {
   "cell_type": "code",
   "execution_count": 15,
   "metadata": {},
   "outputs": [
    {
     "name": "stdout",
     "output_type": "stream",
     "text": [
      "Created flow run 'stoic-sparrow' (23b6e084-fcb2-407e-b689-1491ab5e7cdb)\n"
     ]
    },
    {
     "data": {
      "text/plain": [
       "0"
      ]
     },
     "execution_count": 15,
     "metadata": {},
     "output_type": "execute_result"
    }
   ],
   "source": [
    "# query = \"prefect agent start -q 'project-manager'\"\n",
    "# query = \"prefect deployment run main/training-model\"\n",
    "query = \"prefect deployment run batch-analyze/monitoring-report\"\n",
    "os.system(query)"
   ]
  },
  {
   "cell_type": "code",
   "execution_count": 16,
   "metadata": {},
   "outputs": [
    {
     "name": "stdout",
     "output_type": "stream",
     "text": [
      "Starting agent connected to http://158.160.3.37:4200/api...\n",
      "\n",
      "  ___ ___ ___ ___ ___ ___ _____     _   ___ ___ _  _ _____\n",
      " | _ \\ _ \\ __| __| __/ __|_   _|   /_\\ / __| __| \\| |_   _|\n",
      " |  _/   / _|| _|| _| (__  | |    / _ \\ (_ | _|| .` | | |\n",
      " |_| |_|_\\___|_| |___\\___| |_|   /_/ \\_\\___|___|_|\\_| |_|\n",
      "\n",
      "\n",
      "Agent started! Looking for work from queue(s): project-manager...\n"
     ]
    },
    {
     "name": "stderr",
     "output_type": "stream",
     "text": [
      "18:12:53.282 | INFO    | prefect.agent - Submitting flow run '23b6e084-fcb2-407e-b689-1491ab5e7cdb'\n",
      "18:12:53.382 | INFO    | prefect.infrastructure.process - Opening process 'stoic-sparrow'...\n",
      "18:12:53.388 | INFO    | prefect.agent - Completed submission of flow run '23b6e084-fcb2-407e-b689-1491ab5e7cdb'\n",
      "18:12:56.738 | INFO    | Flow run 'stoic-sparrow' - Created task run 'load_reference_data-ae61e01f-0' for task 'load_reference_data'\n",
      "18:12:56.739 | INFO    | Flow run 'stoic-sparrow' - Executing 'load_reference_data-ae61e01f-0' immediately...\n"
     ]
    },
    {
     "name": "stdout",
     "output_type": "stream",
     "text": [
      "... Connecting to MLFlow Server on http://158.160.3.37:5001 ...\n",
      "... Loading prediction model from production stage ...\n",
      "Version: 12 Run_id: c73be71def6c47879820e7ba20810f5f\n",
      "Getting TEST data for 2015-6 period\n",
      "... Connecting to kkr-mlops-zoomcamp bucket ...\n"
     ]
    },
    {
     "name": "stderr",
     "output_type": "stream",
     "text": [
      "18:13:00.943 | INFO    | Task run 'load_reference_data-ae61e01f-0' - Finished in state Completed()\n",
      "18:13:00.989 | INFO    | Flow run 'stoic-sparrow' - Created task run 'fetch_data-dd469775-0' for task 'fetch_data'\n",
      "18:13:00.989 | INFO    | Flow run 'stoic-sparrow' - Executing 'fetch_data-dd469775-0' immediately...\n",
      "18:13:01.045 | ERROR   | Task run 'fetch_data-dd469775-0' - Encountered exception during execution:\n",
      "Traceback (most recent call last):\n",
      "  File \"/homw/winx/.local/share/virtualenvs/orchestration_manager-q4JQzXiY/lib/python3.9/site-packages/prefect/engine.py\", line 1069, in orchestrate_task_run\n",
      "    result = await run_sync(task.fn, *args, **kwargs)\n",
      "  File \"/homw/winx/.local/share/virtualenvs/orchestration_manager-q4JQzXiY/lib/python3.9/site-packages/prefect/utilities/asyncutils.py\", line 56, in run_sync_in_worker_thread\n",
      "    return await anyio.to_thread.run_sync(call, cancellable=True)\n",
      "  File \"/homw/winx/.local/share/virtualenvs/orchestration_manager-q4JQzXiY/lib/python3.9/site-packages/anyio/to_thread.py\", line 31, in run_sync\n",
      "    return await get_asynclib().run_sync_in_worker_thread(\n",
      "  File \"/homw/winx/.local/share/virtualenvs/orchestration_manager-q4JQzXiY/lib/python3.9/site-packages/anyio/_backends/_asyncio.py\", line 937, in run_sync_in_worker_thread\n",
      "    return await future\n",
      "  File \"/homw/winx/.local/share/virtualenvs/orchestration_manager-q4JQzXiY/lib/python3.9/site-packages/anyio/_backends/_asyncio.py\", line 867, in run\n",
      "    result = context.run(func, *args)\n",
      "  File \"/home/kkr/notebooks/project/orchestration_manager/prefect_monitoring_report.py\", line 52, in fetch_data\n",
      "    data = pd.read_csv(filename, sep = \",\", header = None )\n",
      "  File \"/homw/winx/.local/share/virtualenvs/orchestration_manager-q4JQzXiY/lib/python3.9/site-packages/pandas/io/parsers.py\", line 688, in read_csv\n",
      "    return _read(filepath_or_buffer, kwds)\n",
      "  File \"/homw/winx/.local/share/virtualenvs/orchestration_manager-q4JQzXiY/lib/python3.9/site-packages/pandas/io/parsers.py\", line 454, in _read\n",
      "    parser = TextFileReader(fp_or_buf, **kwds)\n",
      "  File \"/homw/winx/.local/share/virtualenvs/orchestration_manager-q4JQzXiY/lib/python3.9/site-packages/pandas/io/parsers.py\", line 948, in __init__\n",
      "    self._make_engine(self.engine)\n",
      "  File \"/homw/winx/.local/share/virtualenvs/orchestration_manager-q4JQzXiY/lib/python3.9/site-packages/pandas/io/parsers.py\", line 1180, in _make_engine\n",
      "    self._engine = CParserWrapper(self.f, **self.options)\n",
      "  File \"/homw/winx/.local/share/virtualenvs/orchestration_manager-q4JQzXiY/lib/python3.9/site-packages/pandas/io/parsers.py\", line 2010, in __init__\n",
      "    self._reader = parsers.TextReader(src, **kwds)\n",
      "  File \"pandas/_libs/parsers.pyx\", line 382, in pandas._libs.parsers.TextReader.__cinit__\n",
      "  File \"pandas/_libs/parsers.pyx\", line 674, in pandas._libs.parsers.TextReader._setup_parser_source\n",
      "FileNotFoundError: [Errno 2] No such file or directory: '../targets/target.csv'\n",
      "18:13:01.107 | ERROR   | Task run 'fetch_data-dd469775-0' - Finished in state Failed('Task run encountered an exception.')\n",
      "18:13:01.108 | ERROR   | Flow run 'stoic-sparrow' - Encountered exception during execution:\n",
      "Traceback (most recent call last):\n",
      "  File \"/homw/winx/.local/share/virtualenvs/orchestration_manager-q4JQzXiY/lib/python3.9/site-packages/prefect/engine.py\", line 566, in orchestrate_flow_run\n",
      "    result = await run_sync(flow_call)\n",
      "  File \"/homw/winx/.local/share/virtualenvs/orchestration_manager-q4JQzXiY/lib/python3.9/site-packages/prefect/utilities/asyncutils.py\", line 56, in run_sync_in_worker_thread\n",
      "    return await anyio.to_thread.run_sync(call, cancellable=True)\n",
      "  File \"/homw/winx/.local/share/virtualenvs/orchestration_manager-q4JQzXiY/lib/python3.9/site-packages/anyio/to_thread.py\", line 31, in run_sync\n",
      "    return await get_asynclib().run_sync_in_worker_thread(\n",
      "  File \"/homw/winx/.local/share/virtualenvs/orchestration_manager-q4JQzXiY/lib/python3.9/site-packages/anyio/_backends/_asyncio.py\", line 937, in run_sync_in_worker_thread\n",
      "    return await future\n",
      "  File \"/homw/winx/.local/share/virtualenvs/orchestration_manager-q4JQzXiY/lib/python3.9/site-packages/anyio/_backends/_asyncio.py\", line 867, in run\n",
      "    result = context.run(func, *args)\n",
      "  File \"/home/kkr/notebooks/project/orchestration_manager/prefect_monitoring_report.py\", line 90, in batch_analyze\n",
      "    data = fetch_data(target_file)\n",
      "  File \"/homw/winx/.local/share/virtualenvs/orchestration_manager-q4JQzXiY/lib/python3.9/site-packages/prefect/tasks.py\", line 294, in __call__\n",
      "    return enter_task_run_engine(\n",
      "  File \"/homw/winx/.local/share/virtualenvs/orchestration_manager-q4JQzXiY/lib/python3.9/site-packages/prefect/engine.py\", line 705, in enter_task_run_engine\n",
      "    return run_async_from_worker_thread(begin_run)\n",
      "  File \"/homw/winx/.local/share/virtualenvs/orchestration_manager-q4JQzXiY/lib/python3.9/site-packages/prefect/utilities/asyncutils.py\", line 136, in run_async_from_worker_thread\n",
      "    return anyio.from_thread.run(call)\n",
      "  File \"/homw/winx/.local/share/virtualenvs/orchestration_manager-q4JQzXiY/lib/python3.9/site-packages/anyio/from_thread.py\", line 49, in run\n",
      "    return asynclib.run_async_from_thread(func, *args)\n",
      "  File \"/homw/winx/.local/share/virtualenvs/orchestration_manager-q4JQzXiY/lib/python3.9/site-packages/anyio/_backends/_asyncio.py\", line 970, in run_async_from_thread\n",
      "    return f.result()\n",
      "  File \"/home/kkr/anaconda3/lib/python3.9/concurrent/futures/_base.py\", line 446, in result\n",
      "    return self.__get_result()\n",
      "  File \"/home/kkr/anaconda3/lib/python3.9/concurrent/futures/_base.py\", line 391, in __get_result\n",
      "    raise self._exception\n",
      "  File \"/homw/winx/.local/share/virtualenvs/orchestration_manager-q4JQzXiY/lib/python3.9/site-packages/prefect/engine.py\", line 822, in create_task_run_then_submit\n",
      "    return await future._result()\n",
      "  File \"/homw/winx/.local/share/virtualenvs/orchestration_manager-q4JQzXiY/lib/python3.9/site-packages/prefect/futures.py\", line 227, in _result\n",
      "    return final_state.result(raise_on_failure=raise_on_failure)\n",
      "  File \"/homw/winx/.local/share/virtualenvs/orchestration_manager-q4JQzXiY/lib/python3.9/site-packages/prefect/orion/schemas/states.py\", line 145, in result\n",
      "    raise data\n",
      "  File \"/homw/winx/.local/share/virtualenvs/orchestration_manager-q4JQzXiY/lib/python3.9/site-packages/prefect/engine.py\", line 1069, in orchestrate_task_run\n",
      "    result = await run_sync(task.fn, *args, **kwargs)\n",
      "  File \"/homw/winx/.local/share/virtualenvs/orchestration_manager-q4JQzXiY/lib/python3.9/site-packages/prefect/utilities/asyncutils.py\", line 56, in run_sync_in_worker_thread\n",
      "    return await anyio.to_thread.run_sync(call, cancellable=True)\n",
      "  File \"/homw/winx/.local/share/virtualenvs/orchestration_manager-q4JQzXiY/lib/python3.9/site-packages/anyio/to_thread.py\", line 31, in run_sync\n",
      "    return await get_asynclib().run_sync_in_worker_thread(\n",
      "  File \"/homw/winx/.local/share/virtualenvs/orchestration_manager-q4JQzXiY/lib/python3.9/site-packages/anyio/_backends/_asyncio.py\", line 937, in run_sync_in_worker_thread\n",
      "    return await future\n",
      "  File \"/homw/winx/.local/share/virtualenvs/orchestration_manager-q4JQzXiY/lib/python3.9/site-packages/anyio/_backends/_asyncio.py\", line 867, in run\n",
      "    result = context.run(func, *args)\n",
      "  File \"/home/kkr/notebooks/project/orchestration_manager/prefect_monitoring_report.py\", line 52, in fetch_data\n",
      "    data = pd.read_csv(filename, sep = \",\", header = None )\n",
      "  File \"/homw/winx/.local/share/virtualenvs/orchestration_manager-q4JQzXiY/lib/python3.9/site-packages/pandas/io/parsers.py\", line 688, in read_csv\n",
      "    return _read(filepath_or_buffer, kwds)\n",
      "  File \"/homw/winx/.local/share/virtualenvs/orchestration_manager-q4JQzXiY/lib/python3.9/site-packages/pandas/io/parsers.py\", line 454, in _read\n",
      "    parser = TextFileReader(fp_or_buf, **kwds)\n",
      "  File \"/homw/winx/.local/share/virtualenvs/orchestration_manager-q4JQzXiY/lib/python3.9/site-packages/pandas/io/parsers.py\", line 948, in __init__\n",
      "    self._make_engine(self.engine)\n",
      "  File \"/homw/winx/.local/share/virtualenvs/orchestration_manager-q4JQzXiY/lib/python3.9/site-packages/pandas/io/parsers.py\", line 1180, in _make_engine\n",
      "    self._engine = CParserWrapper(self.f, **self.options)\n",
      "  File \"/homw/winx/.local/share/virtualenvs/orchestration_manager-q4JQzXiY/lib/python3.9/site-packages/pandas/io/parsers.py\", line 2010, in __init__\n",
      "    self._reader = parsers.TextReader(src, **kwds)\n",
      "  File \"pandas/_libs/parsers.pyx\", line 382, in pandas._libs.parsers.TextReader.__cinit__\n",
      "  File \"pandas/_libs/parsers.pyx\", line 674, in pandas._libs.parsers.TextReader._setup_parser_source\n",
      "FileNotFoundError: [Errno 2] No such file or directory: '../targets/target.csv'\n",
      "18:13:01.177 | ERROR   | Flow run 'stoic-sparrow' - Finished in state Failed('Flow run encountered an exception.')\n",
      "18:13:02.007 | INFO    | prefect.infrastructure.process - Process 'stoic-sparrow' exited cleanly.\n"
     ]
    }
   ],
   "source": [
    "query = \"prefect agent start -q 'project-manager'\"\n",
    "os.system(query)"
   ]
  },
  {
   "cell_type": "code",
   "execution_count": 10,
   "metadata": {},
   "outputs": [
    {
     "ename": "AttributeError",
     "evalue": "'function' object has no attribute 'fn'",
     "output_type": "error",
     "traceback": [
      "\u001b[0;31m---------------------------------------------------------------------------\u001b[0m",
      "\u001b[0;31mAttributeError\u001b[0m                            Traceback (most recent call last)",
      "Cell \u001b[0;32mIn [10], line 4\u001b[0m\n\u001b[1;32m      1\u001b[0m \u001b[38;5;28;01mfrom\u001b[39;00m \u001b[38;5;21;01mprefect\u001b[39;00m \u001b[38;5;28;01mimport\u001b[39;00m task\n\u001b[1;32m      2\u001b[0m \u001b[38;5;28;01mimport\u001b[39;00m \u001b[38;5;21;01mprefect_monitoring_report\u001b[39;00m\n\u001b[0;32m----> 4\u001b[0m \u001b[43mtask\u001b[49m\u001b[38;5;241;43m.\u001b[39;49m\u001b[43mfn\u001b[49m(prefect_monitoring_report\u001b[38;5;241m.\u001b[39mfetch_data(\u001b[38;5;124m'\u001b[39m\u001b[38;5;124m../targets/target.csv\u001b[39m\u001b[38;5;124m'\u001b[39m))\n",
      "\u001b[0;31mAttributeError\u001b[0m: 'function' object has no attribute 'fn'"
     ]
    }
   ],
   "source": [
    "\n",
    "from prefect import task\n",
    "import prefect_monitoring_report\n",
    "\n",
    "task.fn(prefect_monitoring_report.fetch_data('../targets/target.csv'))\n"
   ]
  }
 ],
 "metadata": {
  "kernelspec": {
   "display_name": "Python 3.9.12 ('orchestration_manager-q4JQzXiY')",
   "language": "python",
   "name": "python3"
  },
  "language_info": {
   "codemirror_mode": {
    "name": "ipython",
    "version": 3
   },
   "file_extension": ".py",
   "mimetype": "text/x-python",
   "name": "python",
   "nbconvert_exporter": "python",
   "pygments_lexer": "ipython3",
   "version": "3.9.12"
  },
  "orig_nbformat": 4,
  "vscode": {
   "interpreter": {
    "hash": "da4e2655dcedcef90c58a412e9ad644fab96a2a7895628d49bca28ca766faf43"
   }
  }
 },
 "nbformat": 4,
 "nbformat_minor": 2
}
