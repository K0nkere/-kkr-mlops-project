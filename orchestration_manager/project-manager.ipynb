{
 "cells": [
  {
   "cell_type": "code",
   "execution_count": null,
   "metadata": {},
   "outputs": [],
   "source": [
    "import prefect\n",
    "import json\n",
    "\n",
    "from datetime import datetime\n",
    "from dateutil.relativedelta import relativedelta\n",
    "\n",
    "import prefect_monitoring_report\n",
    "import prefect_model\n",
    "\n",
    "from flask import Flask, request, jsonify\n",
    "app = Flask(\"Model-manager\")\n",
    "\n",
    "@app.route(\"/manager\", methods=['POST'])\n",
    "def project_manager():\n",
    "\n",
    "    signal = request.get_json()\n",
    "\n",
    "    print(f\"Getting {signal['finished']} on {signal['current_date']}\")\n",
    "    \n",
    "    report = prefect_monitoring_report.batch_analyze(\n",
    "                current_date = signal['current_date'],\n",
    "                target_file = '../target.csv'\n",
    "                )[0]\n",
    "    \n",
    "    retrain = report['data_drift']['data']['metrics']['prediction']['drift_detected']\n",
    "    print(f\"Drift status on {signal['current_date']} prediction:\", retrain)\n",
    "\n",
    "    if retrain:\n",
    "        \n",
    "        retrain_date = datetime.strptime(signal['current_date'], \"%Y-%m-%d\")\n",
    "\n",
    "        if retrain_date < datetime(2015, 8, 1):\n",
    "            retrain_date = datetime.strftime(retrain_date, \"%Y-%m-%d\")\n",
    "            print(\"... Running retraining of the model ...\")\n",
    "            prefect_model.main(current_date = retrain_date, periods = 5)\n",
    "            \n",
    "        else:\n",
    "            retrain_date = datetime.strftime(retrain_date, \"%Y-%m\")\n",
    "            print(f\"... Unable to retrain, waiting for the data over {retrain_date}...\")\n",
    "        \n",
    "    return jsonify(\"OK\")\n",
    "\n",
    "if __name__ == \"__main__\":\n",
    "    app.run(debug=True, host=\"0.0.0.0\", port=9898)\n"
   ]
  },
  {
   "cell_type": "code",
   "execution_count": null,
   "metadata": {},
   "outputs": [],
   "source": [
    "# send_data.sending_stream(current_date=\"2015-7-5\", periods = 0)"
   ]
  }
 ],
 "metadata": {
  "kernelspec": {
   "display_name": "Python 3.9.13 ('mlops-project-manager')",
   "language": "python",
   "name": "python3"
  },
  "language_info": {
   "codemirror_mode": {
    "name": "ipython",
    "version": 3
   },
   "file_extension": ".py",
   "mimetype": "text/x-python",
   "name": "python",
   "nbconvert_exporter": "python",
   "pygments_lexer": "ipython3",
   "version": "3.9.13"
  },
  "orig_nbformat": 4,
  "vscode": {
   "interpreter": {
    "hash": "4af68c188fdcfd33d294b663ba19e2dd3f4e5923f8fc33e7b28b1d0a2ad6c735"
   }
  }
 },
 "nbformat": 4,
 "nbformat_minor": 2
}
