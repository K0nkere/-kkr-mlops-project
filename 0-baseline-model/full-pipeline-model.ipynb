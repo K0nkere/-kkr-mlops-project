{
 "cells": [
  {
   "cell_type": "code",
   "execution_count": 1,
   "metadata": {},
   "outputs": [],
   "source": [
    "import boto3\n",
    "import pyarrow\n",
    "import pickle\n",
    "\n",
    "import pandas as pd\n",
    "import numpy as np\n",
    "\n",
    "from sklearn.compose import ColumnTransformer\n",
    "# from sklearn.preprocessing import OneHotEncoder\n",
    "from sklearn.impute import SimpleImputer\n",
    "from sklearn.pipeline import Pipeline\n",
    "\n",
    "from sklearn.feature_extraction import DictVectorizer\n",
    "\n",
    "from sklearn.model_selection import train_test_split\n",
    "from sklearn.metrics import mean_squared_error\n",
    "\n",
    "from sklearn.linear_model import LinearRegression, Ridge\n",
    "from xgboost import XGBRegressor\n",
    "\n",
    "def read_data(key, bucket='kkr-mlops-zoomcamp'):\n",
    "\n",
    "    session = boto3.session.Session()\n",
    "    s3 = session.client(\n",
    "        service_name='s3',\n",
    "        endpoint_url='https://storage.yandexcloud.net',\n",
    "        region_name='ru-central1',\n",
    "        # aws_access_key_id = \"id\",\n",
    "        # aws_secret_access_key = \"key\")\n",
    "    )\n",
    "    obj = s3.get_object(Bucket=bucket, Key=key)\n",
    "\n",
    "    data = pd.read_csv(obj['Body'])\n",
    "\n",
    "    return data\n",
    "    \n",
    "def na_filter(data):\n",
    "    work_data = data.copy()\n",
    "    non_type = work_data[data['make'].isna() | data['model'].isna() | data['trim'].isna()].index\n",
    "    work_data.drop(non_type, axis=0, inplace=True)\n",
    "\n",
    "    y = work_data.pop('sellingprice')\n",
    "\n",
    "    return work_data, y\n",
    "\n",
    "class FeaturesModifier:\n",
    "    def __init__(self, columns):\n",
    "        self.columns = columns\n",
    "\n",
    "    def fit(self, work_data, _ = None):\n",
    "        return self\n",
    "\n",
    "    def transform(self, work_data, _ = None):\n",
    "\n",
    "        work_data = pd.DataFrame(work_data, columns = self.columns)\n",
    "        work_data['make_model_trim'] = work_data['make'] + '_'  + work_data['model'] + '_' + work_data['trim']\n",
    "        work_data['year'] = work_data['year'].astype('str')\n",
    "        \n",
    "        cat_cols = ['year', 'make_model_trim', 'body', 'transmission', 'color', 'interior']\n",
    "        num_cols = ['condition', 'odometer', 'mmr']\n",
    "\n",
    "        X = work_data[cat_cols + num_cols].copy()\n",
    "        X_dict = X.to_dict(orient = 'records')\n",
    "\n",
    "        return X_dict\n",
    "\n",
    "    def fit_transform(self, work_data, _ = None):\n",
    "        return self.transform(work_data)\n",
    "\n",
    "def prepare_features(work_data, preprocessor = None):\n",
    "\n",
    "    num_2_impute = ['condition', 'odometer', 'mmr']\n",
    "    cat_2_impute = ['body', 'transmission']\n",
    "    constant_2_impute = ['color', 'interior']\n",
    "    others = ['year', 'make', 'model', 'trim']\n",
    "    \n",
    "    if not preprocessor:\n",
    "        features_filler = ColumnTransformer([\n",
    "            ('num_imputer', SimpleImputer(missing_values=np.nan, strategy='mean'), num_2_impute),\n",
    "            ('cat_imputer', SimpleImputer(missing_values=np.nan, strategy='most_frequent'), cat_2_impute),\n",
    "            ('cat_constant', SimpleImputer(missing_values=np.nan, strategy='most_frequent'), constant_2_impute),\n",
    "            ('others', SimpleImputer(missing_values=np.nan, strategy='constant', fill_value='-1'), others )\n",
    "            ]\n",
    "        )\n",
    "\n",
    "        fm = FeaturesModifier(columns = num_2_impute + cat_2_impute + constant_2_impute + others)\n",
    "\n",
    "        dv = DictVectorizer() \n",
    "\n",
    "        preprocessor = Pipeline(steps = [\n",
    "            ('filler', features_filler),\n",
    "            ('modifier', fm),\n",
    "            ('dict_vectorizer', dv)\n",
    "\n",
    "        ])\n",
    "        \n",
    "        X = preprocessor.fit_transform(work_data)\n",
    "\n",
    "    else:\n",
    "        X = preprocessor.transform(work_data)\n",
    "\n",
    "    return X, preprocessor\n",
    "\n",
    "def main():\n",
    "    data = read_data(key='datasets/car-prices-train.csv')\n",
    "    \n",
    "    work_data, y = na_filter(data)\n",
    "    X_train, X_valid, y_train, y_valid = train_test_split(work_data, y, test_size=0.25, random_state=42)\n",
    "\n",
    "    train, preprocessor = prepare_features(X_train, preprocessor = None )\n",
    "    # valid, _  = prepare_features(X_valid, preprocessor)\n",
    "    \n",
    "    xgb = XGBRegressor()\n",
    "    xgb.fit(train, y_train)\n",
    "    \n",
    "    model = Pipeline(steps =[\n",
    "        ('preprocess', preprocessor),\n",
    "        ('XGBoost', xgb)\n",
    "        ]\n",
    "    )\n",
    "    print ('RMSE on train', \n",
    "        mean_squared_error(y_train, model.predict(X_train), squared = False)\n",
    "        )\n",
    "\n",
    "    prediction = model.predict(X_valid)\n",
    "    print('RMSE on valid', \n",
    "        mean_squared_error(y_valid, prediction, squared = False)\n",
    "        )\n",
    "    \n",
    "    return model\n"
   ]
  },
  {
   "cell_type": "code",
   "execution_count": 2,
   "metadata": {},
   "outputs": [
    {
     "name": "stdout",
     "output_type": "stream",
     "text": [
      "RMSE on train 1400.843049383379\n",
      "RMSE on valid 1438.312342063069\n"
     ]
    }
   ],
   "source": [
    "model = main()\n"
   ]
  },
  {
   "cell_type": "code",
   "execution_count": 3,
   "metadata": {},
   "outputs": [],
   "source": [
    "with open('model.bin', 'wb') as f_out:\n",
    "    pickle.dump(model, f_out)"
   ]
  },
  {
   "cell_type": "code",
   "execution_count": 4,
   "metadata": {},
   "outputs": [],
   "source": [
    "with open('model.bin', 'rb') as f_in:\n",
    "    loaded_model = pickle.load(f_in)\n"
   ]
  },
  {
   "cell_type": "code",
   "execution_count": 5,
   "metadata": {},
   "outputs": [
    {
     "data": {
      "text/plain": [
       "1602.0459517002184"
      ]
     },
     "execution_count": 5,
     "metadata": {},
     "output_type": "execute_result"
    }
   ],
   "source": [
    "data_test = read_data(key = 'datasets/car-prices-test.csv')\n",
    "test, y_test = na_filter(data_test)\n",
    "\n",
    "test_prediction = loaded_model.predict(test)\n",
    "\n",
    "mean_squared_error(y_test, test_prediction, squared=False)\n"
   ]
  },
  {
   "cell_type": "code",
   "execution_count": 6,
   "metadata": {},
   "outputs": [],
   "source": [
    "# lr = LinearRegression()\n",
    "# lr.fit(train, y_train)\n",
    "# lr_pred = lr.predict(valid)\n",
    "\n",
    "# mean_squared_error(y_valid, lr.predict(valid), squared=False)"
   ]
  }
 ],
 "metadata": {
  "kernelspec": {
   "display_name": "Python 3.9.12 ('base')",
   "language": "python",
   "name": "python3"
  },
  "language_info": {
   "codemirror_mode": {
    "name": "ipython",
    "version": 3
   },
   "file_extension": ".py",
   "mimetype": "text/x-python",
   "name": "python",
   "nbconvert_exporter": "python",
   "pygments_lexer": "ipython3",
   "version": "3.9.12"
  },
  "orig_nbformat": 4,
  "vscode": {
   "interpreter": {
    "hash": "3896c710eaa6118cd87eb3929cad6bf103bd6fc939f7f0fa4f0adcbb9cf36bf7"
   }
  }
 },
 "nbformat": 4,
 "nbformat_minor": 2
}
