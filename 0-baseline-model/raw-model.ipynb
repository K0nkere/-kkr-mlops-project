{
 "cells": [
  {
   "cell_type": "code",
   "execution_count": 1,
   "metadata": {},
   "outputs": [],
   "source": [
    "import boto3\n",
    "import pyarrow\n",
    "import pickle\n",
    "\n",
    "import pandas as pd\n",
    "import numpy as np\n",
    "\n",
    "from sklearn.compose import ColumnTransformer\n",
    "# from sklearn.preprocessing import OneHotEncoder\n",
    "from sklearn.impute import SimpleImputer\n",
    "from sklearn.pipeline import Pipeline\n",
    "\n",
    "from sklearn.feature_extraction import DictVectorizer\n",
    "\n",
    "from sklearn.model_selection import train_test_split\n",
    "from sklearn.metrics import mean_squared_error\n",
    "\n",
    "from sklearn.linear_model import LinearRegression, Ridge\n",
    "from xgboost import XGBRegressor\n",
    "\n",
    "def read_data(key, bucket='kkr-mlops-zoomcamp'):\n",
    "\n",
    "    session = boto3.session.Session()\n",
    "    s3 = session.client(\n",
    "        service_name='s3',\n",
    "        endpoint_url='https://storage.yandexcloud.net',\n",
    "        region_name='ru-central1',\n",
    "        # aws_access_key_id = \"id\",\n",
    "        # aws_secret_access_key = \"key\")\n",
    "    )\n",
    "    obj = s3.get_object(Bucket=bucket, Key=key)\n",
    "\n",
    "    data = pd.read_csv(obj['Body'])\n",
    "\n",
    "    return data\n",
    "    \n",
    "def na_filter(data):\n",
    "    work_data = data.copy()\n",
    "    non_type = work_data[data['make'].isna() | data['model'].isna() | data['trim'].isna()].index\n",
    "    work_data.drop(non_type, axis=0, inplace=True)\n",
    "\n",
    "    y = work_data.pop('sellingprice')\n",
    "\n",
    "    return work_data, y\n",
    "\n",
    "def prepare_features(work_data, features_filler=None, dv=None):\n",
    "    \n",
    "    num_2_impute = ['condition', 'odometer', 'mmr']\n",
    "    cat_2_impute = ['body', 'transmission']\n",
    "    constant_2_impute = ['color', 'interior']\n",
    "\n",
    "    if not features_filler:\n",
    "        features_filler = ColumnTransformer([\n",
    "            ('num_imputer', SimpleImputer(missing_values=np.nan, strategy='mean'), num_2_impute),\n",
    "            ('cat_imputer', SimpleImputer(missing_values=np.nan, strategy='most_frequent'), cat_2_impute),\n",
    "            ('cat_constant', SimpleImputer(missing_values=np.nan, strategy='most_frequent'), constant_2_impute)\n",
    "            ]\n",
    "        )\n",
    "\n",
    "        work_data[num_2_impute + cat_2_impute + constant_2_impute] = features_filler.fit_transform(work_data[num_2_impute + cat_2_impute + constant_2_impute])\n",
    "    else:\n",
    "        work_data[num_2_impute + cat_2_impute + constant_2_impute] = features_filler.transform(work_data[num_2_impute + cat_2_impute + constant_2_impute])\n",
    "\n",
    "    cat_cols = ['year', 'make_model_trim', 'body', 'transmission', 'color', 'interior']\n",
    "    num_cols = ['condition', 'odometer', 'mmr']\n",
    "\n",
    "    work_data['make_model_trim'] = work_data['make'] + '_'  + work_data['model'] + '_' + work_data['trim']\n",
    "    work_data['year'] = work_data['year'].astype('str')\n",
    "\n",
    "    X = work_data[cat_cols + num_cols].copy()\n",
    "    X_dict = X[cat_cols + num_cols].to_dict(orient = 'records')\n",
    "    X_dict = X.to_dict(orient = 'records')\n",
    "\n",
    "    if not dv:\n",
    "        dv = DictVectorizer()      \n",
    "        X = dv.fit_transform(X_dict)\n",
    "    else:\n",
    "        X = dv.transform(X_dict)\n",
    "\n",
    "    return X , features_filler, dv\n",
    "\n",
    "def main():\n",
    "    data = read_data(key='datasets/car-prices-train.csv')\n",
    "    \n",
    "    work_data, y = na_filter(data)\n",
    "    X_train, X_valid, y_train, y_valid = train_test_split(work_data, y, test_size=0.25, random_state=42)\n",
    "\n",
    "    train, features_filler, dv = prepare_features(X_train, None, None)\n",
    "    \n",
    "    valid, _, _  = prepare_features(X_valid, features_filler, dv)\n",
    "    \n",
    "    xgb = XGBRegressor()\n",
    "    xgb.fit(train, y_train)\n",
    "    \n",
    "    prediction = xgb.predict(valid)\n",
    "\n",
    "    print(mean_squared_error(y_valid, prediction, squared = False))\n",
    "    \n",
    "    return features_filler, dv, xgb\n"
   ]
  },
  {
   "cell_type": "code",
   "execution_count": 2,
   "metadata": {},
   "outputs": [
    {
     "name": "stdout",
     "output_type": "stream",
     "text": [
      "1438.312342063069\n"
     ]
    }
   ],
   "source": [
    "features_filler, dv, xgb = main()"
   ]
  },
  {
   "cell_type": "code",
   "execution_count": 4,
   "metadata": {},
   "outputs": [
    {
     "data": {
      "text/plain": [
       "1602.0459517002184"
      ]
     },
     "execution_count": 4,
     "metadata": {},
     "output_type": "execute_result"
    }
   ],
   "source": [
    "data_test = read_data(key = 'datasets/car-prices-test.csv')\n",
    "test, y_test = na_filter(data_test)\n",
    "\n",
    "X_test, _, _ = prepare_features(test, features_filler, dv)\n",
    "\n",
    "test_prediction = xgb.predict(X_test)\n",
    "\n",
    "mean_squared_error(y_test, test_prediction, squared=False)\n"
   ]
  },
  {
   "cell_type": "code",
   "execution_count": null,
   "metadata": {},
   "outputs": [
    {
     "data": {
      "text/plain": [
       "1522.575548333558"
      ]
     },
     "execution_count": 135,
     "metadata": {},
     "output_type": "execute_result"
    }
   ],
   "source": [
    "# lr = LinearRegression()\n",
    "# lr.fit(train, y_train)\n",
    "# lr_pred = lr.predict(valid)\n",
    "\n",
    "# mean_squared_error(y_valid, lr.predict(valid), squared=False)"
   ]
  }
 ],
 "metadata": {
  "kernelspec": {
   "display_name": "Python 3.9.12 ('base')",
   "language": "python",
   "name": "python3"
  },
  "language_info": {
   "codemirror_mode": {
    "name": "ipython",
    "version": 3
   },
   "file_extension": ".py",
   "mimetype": "text/x-python",
   "name": "python",
   "nbconvert_exporter": "python",
   "pygments_lexer": "ipython3",
   "version": "3.9.12"
  },
  "orig_nbformat": 4,
  "vscode": {
   "interpreter": {
    "hash": "3896c710eaa6118cd87eb3929cad6bf103bd6fc939f7f0fa4f0adcbb9cf36bf7"
   }
  }
 },
 "nbformat": 4,
 "nbformat_minor": 2
}
