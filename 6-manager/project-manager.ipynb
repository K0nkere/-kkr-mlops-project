{
 "cells": [
  {
   "cell_type": "code",
   "execution_count": null,
   "metadata": {},
   "outputs": [],
   "source": [
    "import prefect\n",
    "\n",
    "import prefect_monitoring_report\n",
    "import prefect_model\n",
    "\n",
    "from flask import Flask, request, jsonify\n",
    "app = Flask(\"Model-manager\")\n",
    "\n",
    "@app.route(\"/manager\", methods=['POST'])\n",
    "def project_manager():\n",
    "\n",
    "    signal = request.get_json()\n",
    "\n",
    "    # print(json.dumps(signal))\n",
    "\n",
    "if __name__ == \"__main__\":\n",
    "    app.run(debug=True, host=\"0.0.0.0\", port=9898)"
   ]
  },
  {
   "cell_type": "code",
   "execution_count": null,
   "metadata": {},
   "outputs": [],
   "source": [
    "# send_data.sending_stream(current_date=\"2015-7-5\", periods = 0)"
   ]
  }
 ],
 "metadata": {
  "kernelspec": {
   "display_name": "Python 3.9.13 ('mlops-project-manager')",
   "language": "python",
   "name": "python3"
  },
  "language_info": {
   "codemirror_mode": {
    "name": "ipython",
    "version": 3
   },
   "file_extension": ".py",
   "mimetype": "text/x-python",
   "name": "python",
   "nbconvert_exporter": "python",
   "pygments_lexer": "ipython3",
   "version": "3.9.13"
  },
  "orig_nbformat": 4,
  "vscode": {
   "interpreter": {
    "hash": "4af68c188fdcfd33d294b663ba19e2dd3f4e5923f8fc33e7b28b1d0a2ad6c735"
   }
  }
 },
 "nbformat": 4,
 "nbformat_minor": 2
}
